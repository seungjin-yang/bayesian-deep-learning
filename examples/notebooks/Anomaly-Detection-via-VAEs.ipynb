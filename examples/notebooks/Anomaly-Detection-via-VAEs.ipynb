{
  "nbformat": 4,
  "nbformat_minor": 0,
  "metadata": {
    "kernelspec": {
      "name": "python3",
      "display_name": "Python 3"
    },
    "language_info": {
      "codemirror_mode": {
        "name": "ipython",
        "version": 3
      },
      "file_extension": ".py",
      "mimetype": "text/x-python",
      "name": "python",
      "nbconvert_exporter": "python",
      "pygments_lexer": "ipython3",
      "version": "3.7.3"
    },
    "colab": {
      "name": "Anomaly-Detection-via-VAEs.ipynb",
      "provenance": []
    },
    "accelerator": "GPU"
  },
  "cells": [
    {
      "cell_type": "markdown",
      "metadata": {
        "id": "Yd_L1_dSD291",
        "colab_type": "text"
      },
      "source": [
        "[Start with Google Colab](https://colab.research.google.com/github/seungjin-yang/bayesian-deep-learning/blob/master/examples/notebooks/Anomaly-Detection-via-VAEs.ipynb)\n",
        "\n",
        "based on [TFP Probabilistic Layers VAE](https://github.com/tensorflow/probability/blob/master/tensorflow_probability/examples/jupyter_notebooks/Probabilistic_Layers_VAE.ipynb)"
      ]
    },
    {
      "cell_type": "code",
      "metadata": {
        "id": "gZNBHYHJEN7e",
        "colab_type": "code",
        "colab": {
          "base_uri": "https://localhost:8080/",
          "height": 1000
        },
        "outputId": "2dd6d0cf-c2be-4232-f0e7-a0dde678833d"
      },
      "source": [
        "try:\n",
        "    import google.colab\n",
        "    IS_COLAB = True\n",
        "except:\n",
        "    IS_COLAB = False\n",
        "\n",
        "if IS_COLAB:\n",
        "    ! pip install tensorflow-gpu==2.0.0\n",
        "    ! pip install tensorflow-probability==0.8.0\n",
        "    ! pip install tensorflow-datasets==1.2.0 \n",
        "    ! pip install git+https://github.com/seungjin-yang/bayesian-deep-learning"
      ],
      "execution_count": 1,
      "outputs": [
        {
          "output_type": "stream",
          "text": [
            "Requirement already satisfied: tensorflow-gpu==2.0.0 in /usr/local/lib/python3.6/dist-packages (2.0.0)\n",
            "Requirement already satisfied: six>=1.10.0 in /usr/local/lib/python3.6/dist-packages (from tensorflow-gpu==2.0.0) (1.12.0)\n",
            "Requirement already satisfied: grpcio>=1.8.6 in /usr/local/lib/python3.6/dist-packages (from tensorflow-gpu==2.0.0) (1.15.0)\n",
            "Requirement already satisfied: termcolor>=1.1.0 in /usr/local/lib/python3.6/dist-packages (from tensorflow-gpu==2.0.0) (1.1.0)\n",
            "Requirement already satisfied: opt-einsum>=2.3.2 in /usr/local/lib/python3.6/dist-packages (from tensorflow-gpu==2.0.0) (3.1.0)\n",
            "Requirement already satisfied: wheel>=0.26 in /usr/local/lib/python3.6/dist-packages (from tensorflow-gpu==2.0.0) (0.33.6)\n",
            "Requirement already satisfied: tensorflow-estimator<2.1.0,>=2.0.0 in /usr/local/lib/python3.6/dist-packages (from tensorflow-gpu==2.0.0) (2.0.0)\n",
            "Requirement already satisfied: keras-applications>=1.0.8 in /usr/local/lib/python3.6/dist-packages (from tensorflow-gpu==2.0.0) (1.0.8)\n",
            "Requirement already satisfied: gast==0.2.2 in /usr/local/lib/python3.6/dist-packages (from tensorflow-gpu==2.0.0) (0.2.2)\n",
            "Requirement already satisfied: absl-py>=0.7.0 in /usr/local/lib/python3.6/dist-packages (from tensorflow-gpu==2.0.0) (0.8.0)\n",
            "Requirement already satisfied: protobuf>=3.6.1 in /usr/local/lib/python3.6/dist-packages (from tensorflow-gpu==2.0.0) (3.7.1)\n",
            "Requirement already satisfied: astor>=0.6.0 in /usr/local/lib/python3.6/dist-packages (from tensorflow-gpu==2.0.0) (0.8.0)\n",
            "Requirement already satisfied: wrapt>=1.11.1 in /usr/local/lib/python3.6/dist-packages (from tensorflow-gpu==2.0.0) (1.11.2)\n",
            "Requirement already satisfied: tensorboard<2.1.0,>=2.0.0 in /usr/local/lib/python3.6/dist-packages (from tensorflow-gpu==2.0.0) (2.0.0)\n",
            "Requirement already satisfied: google-pasta>=0.1.6 in /usr/local/lib/python3.6/dist-packages (from tensorflow-gpu==2.0.0) (0.1.7)\n",
            "Requirement already satisfied: numpy<2.0,>=1.16.0 in /usr/local/lib/python3.6/dist-packages (from tensorflow-gpu==2.0.0) (1.16.5)\n",
            "Requirement already satisfied: keras-preprocessing>=1.0.5 in /usr/local/lib/python3.6/dist-packages (from tensorflow-gpu==2.0.0) (1.1.0)\n",
            "Requirement already satisfied: h5py in /usr/local/lib/python3.6/dist-packages (from keras-applications>=1.0.8->tensorflow-gpu==2.0.0) (2.8.0)\n",
            "Requirement already satisfied: setuptools in /usr/local/lib/python3.6/dist-packages (from protobuf>=3.6.1->tensorflow-gpu==2.0.0) (41.2.0)\n",
            "Requirement already satisfied: markdown>=2.6.8 in /usr/local/lib/python3.6/dist-packages (from tensorboard<2.1.0,>=2.0.0->tensorflow-gpu==2.0.0) (3.1.1)\n",
            "Requirement already satisfied: werkzeug>=0.11.15 in /usr/local/lib/python3.6/dist-packages (from tensorboard<2.1.0,>=2.0.0->tensorflow-gpu==2.0.0) (0.16.0)\n",
            "Requirement already satisfied: tensorflow-probability==0.8.0 in /usr/local/lib/python3.6/dist-packages (0.8.0)\n",
            "Requirement already satisfied: gast<0.3,>=0.2 in /usr/local/lib/python3.6/dist-packages (from tensorflow-probability==0.8.0) (0.2.2)\n",
            "Requirement already satisfied: numpy>=1.13.3 in /usr/local/lib/python3.6/dist-packages (from tensorflow-probability==0.8.0) (1.16.5)\n",
            "Requirement already satisfied: decorator in /usr/local/lib/python3.6/dist-packages (from tensorflow-probability==0.8.0) (4.4.0)\n",
            "Requirement already satisfied: cloudpickle==1.1.1 in /usr/local/lib/python3.6/dist-packages (from tensorflow-probability==0.8.0) (1.1.1)\n",
            "Requirement already satisfied: six>=1.10.0 in /usr/local/lib/python3.6/dist-packages (from tensorflow-probability==0.8.0) (1.12.0)\n",
            "Requirement already satisfied: tensorflow-datasets==1.2.0 in /usr/local/lib/python3.6/dist-packages (1.2.0)\n",
            "Requirement already satisfied: future in /usr/local/lib/python3.6/dist-packages (from tensorflow-datasets==1.2.0) (0.16.0)\n",
            "Requirement already satisfied: psutil in /usr/local/lib/python3.6/dist-packages (from tensorflow-datasets==1.2.0) (5.4.8)\n",
            "Requirement already satisfied: absl-py in /usr/local/lib/python3.6/dist-packages (from tensorflow-datasets==1.2.0) (0.8.0)\n",
            "Requirement already satisfied: termcolor in /usr/local/lib/python3.6/dist-packages (from tensorflow-datasets==1.2.0) (1.1.0)\n",
            "Requirement already satisfied: tqdm in /usr/local/lib/python3.6/dist-packages (from tensorflow-datasets==1.2.0) (4.28.1)\n",
            "Requirement already satisfied: numpy in /usr/local/lib/python3.6/dist-packages (from tensorflow-datasets==1.2.0) (1.16.5)\n",
            "Requirement already satisfied: dill in /usr/local/lib/python3.6/dist-packages (from tensorflow-datasets==1.2.0) (0.3.1.1)\n",
            "Requirement already satisfied: attrs in /usr/local/lib/python3.6/dist-packages (from tensorflow-datasets==1.2.0) (19.2.0)\n",
            "Requirement already satisfied: requests>=2.19.0 in /usr/local/lib/python3.6/dist-packages (from tensorflow-datasets==1.2.0) (2.21.0)\n",
            "Requirement already satisfied: promise in /usr/local/lib/python3.6/dist-packages (from tensorflow-datasets==1.2.0) (2.2.1)\n",
            "Requirement already satisfied: protobuf>=3.6.1 in /usr/local/lib/python3.6/dist-packages (from tensorflow-datasets==1.2.0) (3.7.1)\n",
            "Requirement already satisfied: six in /usr/local/lib/python3.6/dist-packages (from tensorflow-datasets==1.2.0) (1.12.0)\n",
            "Requirement already satisfied: tensorflow-metadata in /usr/local/lib/python3.6/dist-packages (from tensorflow-datasets==1.2.0) (0.14.0)\n",
            "Requirement already satisfied: wrapt in /usr/local/lib/python3.6/dist-packages (from tensorflow-datasets==1.2.0) (1.11.2)\n",
            "Requirement already satisfied: certifi>=2017.4.17 in /usr/local/lib/python3.6/dist-packages (from requests>=2.19.0->tensorflow-datasets==1.2.0) (2019.9.11)\n",
            "Requirement already satisfied: idna<2.9,>=2.5 in /usr/local/lib/python3.6/dist-packages (from requests>=2.19.0->tensorflow-datasets==1.2.0) (2.8)\n",
            "Requirement already satisfied: chardet<3.1.0,>=3.0.2 in /usr/local/lib/python3.6/dist-packages (from requests>=2.19.0->tensorflow-datasets==1.2.0) (3.0.4)\n",
            "Requirement already satisfied: urllib3<1.25,>=1.21.1 in /usr/local/lib/python3.6/dist-packages (from requests>=2.19.0->tensorflow-datasets==1.2.0) (1.24.3)\n",
            "Requirement already satisfied: setuptools in /usr/local/lib/python3.6/dist-packages (from protobuf>=3.6.1->tensorflow-datasets==1.2.0) (41.2.0)\n",
            "Requirement already satisfied: googleapis-common-protos in /usr/local/lib/python3.6/dist-packages (from tensorflow-metadata->tensorflow-datasets==1.2.0) (1.6.0)\n",
            "Collecting git+https://github.com/seungjin-yang/bayesian-deep-learning\n",
            "  Cloning https://github.com/seungjin-yang/bayesian-deep-learning to /tmp/pip-req-build-x3chavcz\n",
            "  Running command git clone -q https://github.com/seungjin-yang/bayesian-deep-learning /tmp/pip-req-build-x3chavcz\n",
            "Requirement already satisfied (use --upgrade to upgrade): extended-tfp==0.0.1 from git+https://github.com/seungjin-yang/bayesian-deep-learning in /usr/local/lib/python3.6/dist-packages\n",
            "Requirement already satisfied: tensorflow-probability>=0.8.0 in /usr/local/lib/python3.6/dist-packages (from extended-tfp==0.0.1) (0.8.0)\n",
            "Requirement already satisfied: cloudpickle==1.1.1 in /usr/local/lib/python3.6/dist-packages (from tensorflow-probability>=0.8.0->extended-tfp==0.0.1) (1.1.1)\n",
            "Requirement already satisfied: six>=1.10.0 in /usr/local/lib/python3.6/dist-packages (from tensorflow-probability>=0.8.0->extended-tfp==0.0.1) (1.12.0)\n",
            "Requirement already satisfied: numpy>=1.13.3 in /usr/local/lib/python3.6/dist-packages (from tensorflow-probability>=0.8.0->extended-tfp==0.0.1) (1.16.5)\n",
            "Requirement already satisfied: decorator in /usr/local/lib/python3.6/dist-packages (from tensorflow-probability>=0.8.0->extended-tfp==0.0.1) (4.4.0)\n",
            "Requirement already satisfied: gast<0.3,>=0.2 in /usr/local/lib/python3.6/dist-packages (from tensorflow-probability>=0.8.0->extended-tfp==0.0.1) (0.2.2)\n",
            "Building wheels for collected packages: extended-tfp\n",
            "  Building wheel for extended-tfp (setup.py) ... \u001b[?25l\u001b[?25hdone\n",
            "  Created wheel for extended-tfp: filename=extended_tfp-0.0.1-cp36-none-any.whl size=5356 sha256=cc4af04495e6830cbbc15f8287a3652d3b0503e4ccc4247cf06cb0b09071942f\n",
            "  Stored in directory: /tmp/pip-ephem-wheel-cache-8x4pn41p/wheels/64/bb/35/da8f0123198790598d839e1493c025353c4ba516b876cd55d3\n",
            "Successfully built extended-tfp\n"
          ],
          "name": "stdout"
        }
      ]
    },
    {
      "cell_type": "code",
      "metadata": {
        "id": "t2-pEWwVD294",
        "colab_type": "code",
        "colab": {}
      },
      "source": [
        "%matplotlib inline\n",
        "import numpy as np\n",
        "import matplotlib.pyplot as plt\n",
        "\n",
        "import tensorflow as tf\n",
        "import tensorflow_probability as tfp\n",
        "import tensorflow_datasets as tfds\n",
        "\n",
        "import extended_tfp as extfp\n",
        "\n",
        "tfk = tf.keras\n",
        "tfkl = tf.keras.layers\n",
        "tfpl = tfp.layers\n",
        "tfd = tfp.distributions\n",
        "\n",
        "tf.keras.backend.set_image_data_format('channels_first')"
      ],
      "execution_count": 0,
      "outputs": []
    },
    {
      "cell_type": "code",
      "metadata": {
        "id": "4x5KSPcEJwjJ",
        "colab_type": "code",
        "colab": {
          "base_uri": "https://localhost:8080/",
          "height": 70
        },
        "outputId": "a100a165-d013-4600-aa12-e082cf57f9dd"
      },
      "source": [
        "print(f'TensorFlow: {tf.version.VERSION}')\n",
        "print(f'TensorFlow Probbility: {tfp.__version__}')\n",
        "print(f'TensoroFlow Datasets: {tfds.__version__}')"
      ],
      "execution_count": 10,
      "outputs": [
        {
          "output_type": "stream",
          "text": [
            "TensorFlow: 2.0.0\n",
            "TensorFlow Probbility: 0.8.0\n",
            "TensoroFlow Datasets: 1.2.0\n"
          ],
          "name": "stdout"
        }
      ]
    },
    {
      "cell_type": "markdown",
      "metadata": {
        "id": "ynSutyAqD2-G",
        "colab_type": "text"
      },
      "source": [
        "# Data"
      ]
    },
    {
      "cell_type": "code",
      "metadata": {
        "id": "sRMMqXRsD2-H",
        "colab_type": "code",
        "colab": {
          "base_uri": "https://localhost:8080/",
          "height": 441
        },
        "outputId": "3a17b593-e8c3-4d67-c176-ec64bdc8ccb2"
      },
      "source": [
        "datasets, datasets_info = tfds.load(name='mnist', with_info=True, as_supervised=False)"
      ],
      "execution_count": 11,
      "outputs": [
        {
          "output_type": "stream",
          "text": [
            "\u001b[1mDownloading and preparing dataset mnist (11.06 MiB) to /root/tensorflow_datasets/mnist/1.0.0...\u001b[0m\n"
          ],
          "name": "stdout"
        },
        {
          "output_type": "display_data",
          "data": {
            "application/vnd.jupyter.widget-view+json": {
              "model_id": "617cd9b7ad2248758afa7854a7d6b250",
              "version_minor": 0,
              "version_major": 2
            },
            "text/plain": [
              "HBox(children=(IntProgress(value=1, bar_style='info', description='Dl Completed...', max=1, style=ProgressStyl…"
            ]
          },
          "metadata": {
            "tags": []
          }
        },
        {
          "output_type": "display_data",
          "data": {
            "application/vnd.jupyter.widget-view+json": {
              "model_id": "bc6ec7204d184daaa4d4d6229ff4a6c1",
              "version_minor": 0,
              "version_major": 2
            },
            "text/plain": [
              "HBox(children=(IntProgress(value=1, bar_style='info', description='Dl Size...', max=1, style=ProgressStyle(des…"
            ]
          },
          "metadata": {
            "tags": []
          }
        },
        {
          "output_type": "display_data",
          "data": {
            "application/vnd.jupyter.widget-view+json": {
              "model_id": "b5325b5da3ed4acfaaff1e94d6accd5a",
              "version_minor": 0,
              "version_major": 2
            },
            "text/plain": [
              "HBox(children=(IntProgress(value=1, bar_style='info', description='Extraction completed...', max=1, style=Prog…"
            ]
          },
          "metadata": {
            "tags": []
          }
        },
        {
          "output_type": "stream",
          "text": [
            "/usr/local/lib/python3.6/dist-packages/urllib3/connectionpool.py:847: InsecureRequestWarning: Unverified HTTPS request is being made. Adding certificate verification is strongly advised. See: https://urllib3.readthedocs.io/en/latest/advanced-usage.html#ssl-warnings\n",
            "  InsecureRequestWarning)\n",
            "/usr/local/lib/python3.6/dist-packages/urllib3/connectionpool.py:847: InsecureRequestWarning: Unverified HTTPS request is being made. Adding certificate verification is strongly advised. See: https://urllib3.readthedocs.io/en/latest/advanced-usage.html#ssl-warnings\n",
            "  InsecureRequestWarning)\n",
            "/usr/local/lib/python3.6/dist-packages/urllib3/connectionpool.py:847: InsecureRequestWarning: Unverified HTTPS request is being made. Adding certificate verification is strongly advised. See: https://urllib3.readthedocs.io/en/latest/advanced-usage.html#ssl-warnings\n",
            "  InsecureRequestWarning)\n",
            "/usr/local/lib/python3.6/dist-packages/urllib3/connectionpool.py:847: InsecureRequestWarning: Unverified HTTPS request is being made. Adding certificate verification is strongly advised. See: https://urllib3.readthedocs.io/en/latest/advanced-usage.html#ssl-warnings\n",
            "  InsecureRequestWarning)\n"
          ],
          "name": "stderr"
        },
        {
          "output_type": "stream",
          "text": [
            "\n",
            "\n",
            "\n",
            "\n"
          ],
          "name": "stdout"
        },
        {
          "output_type": "display_data",
          "data": {
            "application/vnd.jupyter.widget-view+json": {
              "model_id": "0c2ea8d0fc4c4c82890f89b6ee103000",
              "version_minor": 0,
              "version_major": 2
            },
            "text/plain": [
              "HBox(children=(IntProgress(value=1, bar_style='info', max=1), HTML(value='')))"
            ]
          },
          "metadata": {
            "tags": []
          }
        },
        {
          "output_type": "stream",
          "text": [
            "\r"
          ],
          "name": "stdout"
        },
        {
          "output_type": "display_data",
          "data": {
            "application/vnd.jupyter.widget-view+json": {
              "model_id": "a0b5c05ac27047d9ba2fda999bb16133",
              "version_minor": 0,
              "version_major": 2
            },
            "text/plain": [
              "HBox(children=(IntProgress(value=0, description='Shuffling...', max=10, style=ProgressStyle(description_width=…"
            ]
          },
          "metadata": {
            "tags": []
          }
        },
        {
          "output_type": "stream",
          "text": [
            "WARNING:tensorflow:From /usr/local/lib/python3.6/dist-packages/tensorflow_datasets/core/file_format_adapter.py:209: tf_record_iterator (from tensorflow.python.lib.io.tf_record) is deprecated and will be removed in a future version.\n",
            "Instructions for updating:\n",
            "Use eager execution and: \n",
            "`tf.data.TFRecordDataset(path)`\n"
          ],
          "name": "stdout"
        },
        {
          "output_type": "stream",
          "text": [
            "WARNING:tensorflow:From /usr/local/lib/python3.6/dist-packages/tensorflow_datasets/core/file_format_adapter.py:209: tf_record_iterator (from tensorflow.python.lib.io.tf_record) is deprecated and will be removed in a future version.\n",
            "Instructions for updating:\n",
            "Use eager execution and: \n",
            "`tf.data.TFRecordDataset(path)`\n"
          ],
          "name": "stderr"
        },
        {
          "output_type": "display_data",
          "data": {
            "application/vnd.jupyter.widget-view+json": {
              "model_id": "2720a2cbc595422198b35ba558a78f3a",
              "version_minor": 0,
              "version_major": 2
            },
            "text/plain": [
              "HBox(children=(IntProgress(value=1, bar_style='info', description='Reading...', max=1, style=ProgressStyle(des…"
            ]
          },
          "metadata": {
            "tags": []
          }
        },
        {
          "output_type": "display_data",
          "data": {
            "application/vnd.jupyter.widget-view+json": {
              "model_id": "305d0aae03e344d5a1e9857da4b8e53d",
              "version_minor": 0,
              "version_major": 2
            },
            "text/plain": [
              "HBox(children=(IntProgress(value=0, description='Writing...', max=6000, style=ProgressStyle(description_width=…"
            ]
          },
          "metadata": {
            "tags": []
          }
        },
        {
          "output_type": "display_data",
          "data": {
            "application/vnd.jupyter.widget-view+json": {
              "model_id": "d2c09efc51e9416587f591b369017c83",
              "version_minor": 0,
              "version_major": 2
            },
            "text/plain": [
              "HBox(children=(IntProgress(value=1, bar_style='info', description='Reading...', max=1, style=ProgressStyle(des…"
            ]
          },
          "metadata": {
            "tags": []
          }
        },
        {
          "output_type": "display_data",
          "data": {
            "application/vnd.jupyter.widget-view+json": {
              "model_id": "2cb1e91635824e07bd9aa09f7533e0f0",
              "version_minor": 0,
              "version_major": 2
            },
            "text/plain": [
              "HBox(children=(IntProgress(value=0, description='Writing...', max=6000, style=ProgressStyle(description_width=…"
            ]
          },
          "metadata": {
            "tags": []
          }
        },
        {
          "output_type": "display_data",
          "data": {
            "application/vnd.jupyter.widget-view+json": {
              "model_id": "89b01bf39cfd4b0d8a7d3606372478ce",
              "version_minor": 0,
              "version_major": 2
            },
            "text/plain": [
              "HBox(children=(IntProgress(value=1, bar_style='info', description='Reading...', max=1, style=ProgressStyle(des…"
            ]
          },
          "metadata": {
            "tags": []
          }
        },
        {
          "output_type": "display_data",
          "data": {
            "application/vnd.jupyter.widget-view+json": {
              "model_id": "3ddafea209b14fe2b68e6103ac3a2e0d",
              "version_minor": 0,
              "version_major": 2
            },
            "text/plain": [
              "HBox(children=(IntProgress(value=0, description='Writing...', max=6000, style=ProgressStyle(description_width=…"
            ]
          },
          "metadata": {
            "tags": []
          }
        },
        {
          "output_type": "display_data",
          "data": {
            "application/vnd.jupyter.widget-view+json": {
              "model_id": "1fa03770409a46678d80e9b5c3a01eb7",
              "version_minor": 0,
              "version_major": 2
            },
            "text/plain": [
              "HBox(children=(IntProgress(value=1, bar_style='info', description='Reading...', max=1, style=ProgressStyle(des…"
            ]
          },
          "metadata": {
            "tags": []
          }
        },
        {
          "output_type": "display_data",
          "data": {
            "application/vnd.jupyter.widget-view+json": {
              "model_id": "0a7a5fd4385c40669b1a6b1fe5b9c204",
              "version_minor": 0,
              "version_major": 2
            },
            "text/plain": [
              "HBox(children=(IntProgress(value=0, description='Writing...', max=6000, style=ProgressStyle(description_width=…"
            ]
          },
          "metadata": {
            "tags": []
          }
        },
        {
          "output_type": "display_data",
          "data": {
            "application/vnd.jupyter.widget-view+json": {
              "model_id": "a07bd088c4a64804838ca4a57a33621f",
              "version_minor": 0,
              "version_major": 2
            },
            "text/plain": [
              "HBox(children=(IntProgress(value=1, bar_style='info', description='Reading...', max=1, style=ProgressStyle(des…"
            ]
          },
          "metadata": {
            "tags": []
          }
        },
        {
          "output_type": "display_data",
          "data": {
            "application/vnd.jupyter.widget-view+json": {
              "model_id": "f58a9c591fd04d71b990bc10f681c467",
              "version_minor": 0,
              "version_major": 2
            },
            "text/plain": [
              "HBox(children=(IntProgress(value=0, description='Writing...', max=6000, style=ProgressStyle(description_width=…"
            ]
          },
          "metadata": {
            "tags": []
          }
        },
        {
          "output_type": "display_data",
          "data": {
            "application/vnd.jupyter.widget-view+json": {
              "model_id": "69e8e62d2aba4491928400d3ea994602",
              "version_minor": 0,
              "version_major": 2
            },
            "text/plain": [
              "HBox(children=(IntProgress(value=1, bar_style='info', description='Reading...', max=1, style=ProgressStyle(des…"
            ]
          },
          "metadata": {
            "tags": []
          }
        },
        {
          "output_type": "display_data",
          "data": {
            "application/vnd.jupyter.widget-view+json": {
              "model_id": "620cf2c9374b46628bce11db1bf026f7",
              "version_minor": 0,
              "version_major": 2
            },
            "text/plain": [
              "HBox(children=(IntProgress(value=0, description='Writing...', max=6000, style=ProgressStyle(description_width=…"
            ]
          },
          "metadata": {
            "tags": []
          }
        },
        {
          "output_type": "display_data",
          "data": {
            "application/vnd.jupyter.widget-view+json": {
              "model_id": "e77bdbe7096e404295c2ec870049d059",
              "version_minor": 0,
              "version_major": 2
            },
            "text/plain": [
              "HBox(children=(IntProgress(value=1, bar_style='info', description='Reading...', max=1, style=ProgressStyle(des…"
            ]
          },
          "metadata": {
            "tags": []
          }
        },
        {
          "output_type": "display_data",
          "data": {
            "application/vnd.jupyter.widget-view+json": {
              "model_id": "b6f48e09add64896a5420ce1e8b49ddd",
              "version_minor": 0,
              "version_major": 2
            },
            "text/plain": [
              "HBox(children=(IntProgress(value=0, description='Writing...', max=6000, style=ProgressStyle(description_width=…"
            ]
          },
          "metadata": {
            "tags": []
          }
        },
        {
          "output_type": "display_data",
          "data": {
            "application/vnd.jupyter.widget-view+json": {
              "model_id": "60ffe8d12f604525bb2f9ebd2e392113",
              "version_minor": 0,
              "version_major": 2
            },
            "text/plain": [
              "HBox(children=(IntProgress(value=1, bar_style='info', description='Reading...', max=1, style=ProgressStyle(des…"
            ]
          },
          "metadata": {
            "tags": []
          }
        },
        {
          "output_type": "display_data",
          "data": {
            "application/vnd.jupyter.widget-view+json": {
              "model_id": "6995ef69e3d94af0a89d34558c3c3504",
              "version_minor": 0,
              "version_major": 2
            },
            "text/plain": [
              "HBox(children=(IntProgress(value=0, description='Writing...', max=6000, style=ProgressStyle(description_width=…"
            ]
          },
          "metadata": {
            "tags": []
          }
        },
        {
          "output_type": "display_data",
          "data": {
            "application/vnd.jupyter.widget-view+json": {
              "model_id": "6a3793ebe6974f8c8989a297ca4c1bdf",
              "version_minor": 0,
              "version_major": 2
            },
            "text/plain": [
              "HBox(children=(IntProgress(value=1, bar_style='info', description='Reading...', max=1, style=ProgressStyle(des…"
            ]
          },
          "metadata": {
            "tags": []
          }
        },
        {
          "output_type": "display_data",
          "data": {
            "application/vnd.jupyter.widget-view+json": {
              "model_id": "56e96f1742bc40c3a22faa0bf66e0479",
              "version_minor": 0,
              "version_major": 2
            },
            "text/plain": [
              "HBox(children=(IntProgress(value=0, description='Writing...', max=6000, style=ProgressStyle(description_width=…"
            ]
          },
          "metadata": {
            "tags": []
          }
        },
        {
          "output_type": "display_data",
          "data": {
            "application/vnd.jupyter.widget-view+json": {
              "model_id": "2479389773cc4571bf74a4d7e6c94c19",
              "version_minor": 0,
              "version_major": 2
            },
            "text/plain": [
              "HBox(children=(IntProgress(value=1, bar_style='info', description='Reading...', max=1, style=ProgressStyle(des…"
            ]
          },
          "metadata": {
            "tags": []
          }
        },
        {
          "output_type": "display_data",
          "data": {
            "application/vnd.jupyter.widget-view+json": {
              "model_id": "7e39404f12694f8285303e092c0d9169",
              "version_minor": 0,
              "version_major": 2
            },
            "text/plain": [
              "HBox(children=(IntProgress(value=0, description='Writing...', max=6000, style=ProgressStyle(description_width=…"
            ]
          },
          "metadata": {
            "tags": []
          }
        },
        {
          "output_type": "stream",
          "text": [
            "\r"
          ],
          "name": "stdout"
        },
        {
          "output_type": "display_data",
          "data": {
            "application/vnd.jupyter.widget-view+json": {
              "model_id": "8c7224582a0348909e3f2e0818966c1c",
              "version_minor": 0,
              "version_major": 2
            },
            "text/plain": [
              "HBox(children=(IntProgress(value=1, bar_style='info', max=1), HTML(value='')))"
            ]
          },
          "metadata": {
            "tags": []
          }
        },
        {
          "output_type": "stream",
          "text": [
            "\r"
          ],
          "name": "stdout"
        },
        {
          "output_type": "display_data",
          "data": {
            "application/vnd.jupyter.widget-view+json": {
              "model_id": "3474ba17eddd434dbbfd99dbafa2c828",
              "version_minor": 0,
              "version_major": 2
            },
            "text/plain": [
              "HBox(children=(IntProgress(value=0, description='Shuffling...', max=1, style=ProgressStyle(description_width='…"
            ]
          },
          "metadata": {
            "tags": []
          }
        },
        {
          "output_type": "display_data",
          "data": {
            "application/vnd.jupyter.widget-view+json": {
              "model_id": "c36a0f0229e74e6caa62643e2a8ce39a",
              "version_minor": 0,
              "version_major": 2
            },
            "text/plain": [
              "HBox(children=(IntProgress(value=1, bar_style='info', description='Reading...', max=1, style=ProgressStyle(des…"
            ]
          },
          "metadata": {
            "tags": []
          }
        },
        {
          "output_type": "display_data",
          "data": {
            "application/vnd.jupyter.widget-view+json": {
              "model_id": "4570168f18d24af58277969229d8a565",
              "version_minor": 0,
              "version_major": 2
            },
            "text/plain": [
              "HBox(children=(IntProgress(value=0, description='Writing...', max=10000, style=ProgressStyle(description_width…"
            ]
          },
          "metadata": {
            "tags": []
          }
        },
        {
          "output_type": "stream",
          "text": [
            "\r\u001b[1mDataset mnist downloaded and prepared to /root/tensorflow_datasets/mnist/1.0.0. Subsequent calls will reuse this data.\u001b[0m\n"
          ],
          "name": "stdout"
        },
        {
          "output_type": "stream",
          "text": [
            "WARNING:absl:Warning: Setting shuffle_files=True because split=TRAIN and shuffle_files=None. This behavior will be deprecated on 2019-08-06, at which point shuffle_files=False will be the default for all splits.\n"
          ],
          "name": "stderr"
        }
      ]
    },
    {
      "cell_type": "code",
      "metadata": {
        "id": "BjZe2tawD2-S",
        "colab_type": "code",
        "colab": {}
      },
      "source": [
        "def preprocess_mnist(sample):\n",
        "    # Scale to unit interval.\n",
        "    image = tf.cast(sample['image'], tf.float32) / 255.\n",
        "    # NHWC to NCHW\n",
        "    image = tf.transpose(image, (2, 0, 1))\n",
        "    \n",
        "    # Randomly binarize.\n",
        "    # image = image < tf.random.uniform(tf.shape(image))\n",
        "    \n",
        "    input_image = tf.cast(image, tf.float32)\n",
        "    label_image = tf.cast(image, tf.int64)\n",
        "    return input_image, image\n",
        "\n",
        "\n",
        "train_dataset = (datasets['train']\n",
        "                 .map(preprocess_mnist)\n",
        "                 .batch(256)\n",
        "                 .prefetch(tf.data.experimental.AUTOTUNE)\n",
        "                 .shuffle(int(10e3)))\n",
        "\n",
        "eval_dataset = (datasets['test']\n",
        "                .map(preprocess_mnist)\n",
        "                .batch(256)\n",
        "                .prefetch(tf.data.experimental.AUTOTUNE))"
      ],
      "execution_count": 0,
      "outputs": []
    },
    {
      "cell_type": "code",
      "metadata": {
        "id": "EZK8-yhtD2-X",
        "colab_type": "code",
        "colab": {}
      },
      "source": [
        "def build_model(input_shape, encoded_size=16, base_depth=32):\n",
        "    prior = tfd.Independent(\n",
        "        tfd.Normal(loc=tf.zeros(encoded_size), scale=1),\n",
        "        reinterpreted_batch_ndims=1)\n",
        "\n",
        "    # posterior\n",
        "    encoder = tfk.Sequential([\n",
        "        tfkl.InputLayer(input_shape=input_shape),\n",
        "        tfkl.Conv2D(base_depth, 5, strides=1,\n",
        "                    padding='same', activation=tf.nn.leaky_relu),\n",
        "        tfkl.Conv2D(base_depth, 5, strides=2,\n",
        "                    padding='same', activation=tf.nn.leaky_relu),\n",
        "        tfkl.Conv2D(2 * base_depth, 5, strides=1,\n",
        "                    padding='same', activation=tf.nn.leaky_relu),\n",
        "        tfkl.Conv2D(2 * base_depth, 5, strides=2,\n",
        "                    padding='same', activation=tf.nn.leaky_relu),\n",
        "        tfkl.Conv2D(4 * encoded_size, 7, strides=1,\n",
        "                    padding='valid', activation=tf.nn.leaky_relu),\n",
        "        # tfkl.Flatten(),\n",
        "        tfkl.GlobalAveragePooling2D(),\n",
        "        tfkl.Dense(tfpl.MultivariateNormalTriL.params_size(encoded_size),\n",
        "                   activation=None),\n",
        "        tfpl.MultivariateNormalTriL(\n",
        "            encoded_size,\n",
        "            activity_regularizer=tfpl.KLDivergenceRegularizer(prior)),\n",
        "    ])\n",
        "    \n",
        "    # likelihood\n",
        "    decoder = tfk.Sequential([\n",
        "        tfkl.InputLayer(input_shape=[encoded_size]),\n",
        "        tfkl.Reshape([encoded_size, 1, 1]),\n",
        "        tfkl.Conv2DTranspose(2 * base_depth, 7, strides=1,\n",
        "                             padding='valid', activation=tf.nn.leaky_relu),\n",
        "        tfkl.Conv2DTranspose(2 * base_depth, 5, strides=1,\n",
        "                             padding='same', activation=tf.nn.leaky_relu),\n",
        "        tfkl.Conv2DTranspose(2 * base_depth, 5, strides=2,\n",
        "                             padding='same', activation=tf.nn.leaky_relu),\n",
        "        tfkl.Conv2DTranspose(base_depth, 5, strides=1,\n",
        "                             padding='same', activation=tf.nn.leaky_relu),\n",
        "        tfkl.Conv2DTranspose(base_depth, 5, strides=2,\n",
        "                             padding='same', activation=tf.nn.leaky_relu),\n",
        "        tfkl.Conv2DTranspose(base_depth, 5, strides=1,\n",
        "                             padding='same', activation=tf.nn.leaky_relu),\n",
        "        tfkl.Conv2D(filters=1, kernel_size=5, strides=1,\n",
        "                    padding='same', activation=None),\n",
        "        tfkl.Flatten(),\n",
        "        tfpl.IndependentBernoulli(\n",
        "            event_shape=input_shape,\n",
        "            convert_to_tensor_fn=tfd.Bernoulli.logits),\n",
        "    ])\n",
        "    \n",
        "    vae = tfk.Model(\n",
        "        inputs=encoder.inputs,\n",
        "        outputs=decoder(encoder.outputs[0]))\n",
        "    \n",
        "    return vae, encoder, decoder, prior"
      ],
      "execution_count": 0,
      "outputs": []
    },
    {
      "cell_type": "code",
      "metadata": {
        "id": "nWk_RY3ED2-j",
        "colab_type": "code",
        "colab": {}
      },
      "source": [
        "vae, encoder, decoder, prior = build_model(input_shape=train_dataset.output_shapes[0][1:])"
      ],
      "execution_count": 0,
      "outputs": []
    },
    {
      "cell_type": "code",
      "metadata": {
        "id": "iB5ql5ldD2-o",
        "colab_type": "code",
        "colab": {
          "base_uri": "https://localhost:8080/",
          "height": 439
        },
        "outputId": "ecfc28de-64fb-4a7f-9fd5-b60af9eebbec"
      },
      "source": [
        "encoder.summary()"
      ],
      "execution_count": 15,
      "outputs": [
        {
          "output_type": "stream",
          "text": [
            "Model: \"sequential\"\n",
            "_________________________________________________________________\n",
            "Layer (type)                 Output Shape              Param #   \n",
            "=================================================================\n",
            "conv2d (Conv2D)              (None, 32, 28, 28)        832       \n",
            "_________________________________________________________________\n",
            "conv2d_1 (Conv2D)            (None, 32, 14, 14)        25632     \n",
            "_________________________________________________________________\n",
            "conv2d_2 (Conv2D)            (None, 64, 14, 14)        51264     \n",
            "_________________________________________________________________\n",
            "conv2d_3 (Conv2D)            (None, 64, 7, 7)          102464    \n",
            "_________________________________________________________________\n",
            "conv2d_4 (Conv2D)            (None, 64, 1, 1)          200768    \n",
            "_________________________________________________________________\n",
            "global_average_pooling2d (Gl (None, 64)                0         \n",
            "_________________________________________________________________\n",
            "dense (Dense)                (None, 152)               9880      \n",
            "_________________________________________________________________\n",
            "multivariate_normal_tri_l (M ((None, 16), (None, 16))  0         \n",
            "=================================================================\n",
            "Total params: 390,840\n",
            "Trainable params: 390,840\n",
            "Non-trainable params: 0\n",
            "_________________________________________________________________\n"
          ],
          "name": "stdout"
        }
      ]
    },
    {
      "cell_type": "code",
      "metadata": {
        "id": "hKMPWkXzD2-s",
        "colab_type": "code",
        "colab": {
          "base_uri": "https://localhost:8080/",
          "height": 509
        },
        "outputId": "d0f4a718-12e0-47c9-883f-7eb0b323529d"
      },
      "source": [
        "decoder.summary()"
      ],
      "execution_count": 16,
      "outputs": [
        {
          "output_type": "stream",
          "text": [
            "Model: \"sequential_1\"\n",
            "_________________________________________________________________\n",
            "Layer (type)                 Output Shape              Param #   \n",
            "=================================================================\n",
            "reshape (Reshape)            (None, 16, 1, 1)          0         \n",
            "_________________________________________________________________\n",
            "conv2d_transpose (Conv2DTran (None, 64, 7, 7)          50240     \n",
            "_________________________________________________________________\n",
            "conv2d_transpose_1 (Conv2DTr (None, 64, 7, 7)          102464    \n",
            "_________________________________________________________________\n",
            "conv2d_transpose_2 (Conv2DTr (None, 64, 14, 14)        102464    \n",
            "_________________________________________________________________\n",
            "conv2d_transpose_3 (Conv2DTr (None, 32, 14, 14)        51232     \n",
            "_________________________________________________________________\n",
            "conv2d_transpose_4 (Conv2DTr (None, 32, 28, 28)        25632     \n",
            "_________________________________________________________________\n",
            "conv2d_transpose_5 (Conv2DTr (None, 32, 28, 28)        25632     \n",
            "_________________________________________________________________\n",
            "conv2d_5 (Conv2D)            (None, 1, 28, 28)         801       \n",
            "_________________________________________________________________\n",
            "flatten (Flatten)            (None, 784)               0         \n",
            "_________________________________________________________________\n",
            "independent_bernoulli (Indep ((None, 1, 28, 28), (None 0         \n",
            "=================================================================\n",
            "Total params: 358,465\n",
            "Trainable params: 358,465\n",
            "Non-trainable params: 0\n",
            "_________________________________________________________________\n"
          ],
          "name": "stdout"
        }
      ]
    },
    {
      "cell_type": "code",
      "metadata": {
        "id": "bHgHvd15D2-1",
        "colab_type": "code",
        "colab": {}
      },
      "source": [
        "vae.compile(\n",
        "    optimizer=tf.optimizers.Adam(learning_rate=1e-3),\n",
        "    loss=extfp.losses.negative_log_likelihood)"
      ],
      "execution_count": 0,
      "outputs": []
    },
    {
      "cell_type": "code",
      "metadata": {
        "id": "OeyFqD64D2-5",
        "colab_type": "code",
        "colab": {
          "base_uri": "https://localhost:8080/",
          "height": 545
        },
        "outputId": "e34100b3-6781-4125-9fb9-ccc85d31d099"
      },
      "source": [
        "history = vae.fit(train_dataset, epochs=15, validation_data=eval_dataset)"
      ],
      "execution_count": 18,
      "outputs": [
        {
          "output_type": "stream",
          "text": [
            "Epoch 1/15\n",
            "235/235 [==============================] - 48s 205ms/step - loss: 204.4584 - val_loss: 0.0000e+00\n",
            "Epoch 2/15\n",
            "235/235 [==============================] - 41s 174ms/step - loss: 150.0340 - val_loss: 140.0618\n",
            "Epoch 3/15\n",
            "235/235 [==============================] - 41s 175ms/step - loss: 138.2131 - val_loss: 134.4889\n",
            "Epoch 4/15\n",
            "235/235 [==============================] - 42s 177ms/step - loss: 133.0765 - val_loss: 130.2509\n",
            "Epoch 5/15\n",
            "235/235 [==============================] - 42s 178ms/step - loss: 129.5471 - val_loss: 126.8039\n",
            "Epoch 6/15\n",
            "235/235 [==============================] - 41s 176ms/step - loss: 127.0125 - val_loss: 125.7131\n",
            "Epoch 7/15\n",
            "235/235 [==============================] - 42s 177ms/step - loss: 125.0497 - val_loss: 124.2229\n",
            "Epoch 8/15\n",
            "235/235 [==============================] - 42s 177ms/step - loss: 123.3440 - val_loss: 121.7831\n",
            "Epoch 9/15\n",
            "235/235 [==============================] - 42s 177ms/step - loss: 121.8381 - val_loss: 120.9422\n",
            "Epoch 10/15\n",
            "235/235 [==============================] - 42s 178ms/step - loss: 120.7899 - val_loss: 120.2468\n",
            "Epoch 11/15\n",
            "235/235 [==============================] - 42s 179ms/step - loss: 120.0660 - val_loss: 120.0946\n",
            "Epoch 12/15\n",
            "235/235 [==============================] - 42s 178ms/step - loss: 119.4155 - val_loss: 118.6487\n",
            "Epoch 13/15\n",
            "235/235 [==============================] - 42s 177ms/step - loss: 118.6925 - val_loss: 118.4408\n",
            "Epoch 14/15\n",
            "235/235 [==============================] - 42s 179ms/step - loss: 118.2621 - val_loss: 117.9701\n",
            "Epoch 15/15\n",
            "235/235 [==============================] - 42s 178ms/step - loss: 118.0233 - val_loss: 117.4856\n"
          ],
          "name": "stdout"
        }
      ]
    },
    {
      "cell_type": "code",
      "metadata": {
        "id": "jRvyu6bUD2_C",
        "colab_type": "code",
        "colab": {
          "base_uri": "https://localhost:8080/",
          "height": 269
        },
        "outputId": "2d8653a9-7ced-43ed-c2bc-f7562c4b5ad1"
      },
      "source": [
        "loss = history.history['loss']\n",
        "epoch = range(1, len(loss) + 1)\n",
        "\n",
        "plt.plot(epoch, loss)\n",
        "plt.plot(epoch, history.history['val_loss'])\n",
        "\n",
        "_ = plt.xticks(epoch)\n",
        "plt.grid()"
      ],
      "execution_count": 19,
      "outputs": [
        {
          "output_type": "display_data",
          "data": {
            "image/png": "[encoded data removed]",
            "text/plain": [
              "<Figure size 432x288 with 1 Axes>"
            ]
          },
          "metadata": {
            "tags": []
          }
        }
      ]
    },
    {
      "cell_type": "markdown",
      "metadata": {
        "id": "hM-b50w4D2_I",
        "colab_type": "text"
      },
      "source": [
        "# Visualize"
      ]
    },
    {
      "cell_type": "code",
      "metadata": {
        "id": "GjkVnYjPD2_K",
        "colab_type": "code",
        "colab": {}
      },
      "source": [
        "# We'll just examine ten random digits.\n",
        "x = next(iter(eval_dataset))[0][:10]\n",
        "xhat = vae(x)\n",
        "assert isinstance(xhat, tfd.Distribution)"
      ],
      "execution_count": 0,
      "outputs": []
    },
    {
      "cell_type": "code",
      "metadata": {
        "id": "SUwDlOUvD2_N",
        "colab_type": "code",
        "colab": {}
      },
      "source": [
        "def display_imgs(x, title=None):\n",
        "    if not isinstance(x, (np.ndarray, np.generic)):\n",
        "        x = np.array(x)\n",
        "    n = x.shape[0]\n",
        "    fig, axarr = plt.subplots(1, n, figsize=(n, 1))\n",
        "    \n",
        "    if title is not None:\n",
        "        fig.suptitle(title, y=1.05)\n",
        "    \n",
        "    for i in range(n):\n",
        "        axarr.flat[i].imshow(x[i].squeeze(), interpolation='none', cmap='gray')\n",
        "        axarr.flat[i].axis('off')"
      ],
      "execution_count": 0,
      "outputs": []
    },
    {
      "cell_type": "code",
      "metadata": {
        "id": "2ABOR1aKD2_U",
        "colab_type": "code",
        "colab": {
          "base_uri": "https://localhost:8080/",
          "height": 111
        },
        "outputId": "422703b8-b80c-4939-93e1-5c2582c74975"
      },
      "source": [
        "display_imgs(x, 'Originals')"
      ],
      "execution_count": 22,
      "outputs": [
        {
          "output_type": "display_data",
          "data": {
            "image/png": "[encoded data removed]",
            "text/plain": [
              "<Figure size 720x72 with 10 Axes>"
            ]
          },
          "metadata": {
            "tags": []
          }
        }
      ]
    },
    {
      "cell_type": "code",
      "metadata": {
        "id": "upRddYJFD2_Z",
        "colab_type": "code",
        "colab": {
          "base_uri": "https://localhost:8080/",
          "height": 111
        },
        "outputId": "62afe3c1-696e-4feb-adef-2a48cd44dd65"
      },
      "source": [
        "display_imgs(xhat.sample(), 'Decoded Random Samples')"
      ],
      "execution_count": 23,
      "outputs": [
        {
          "output_type": "display_data",
          "data": {
            "image/png": "[encoded data removed]",
            "text/plain": [
              "<Figure size 720x72 with 10 Axes>"
            ]
          },
          "metadata": {
            "tags": []
          }
        }
      ]
    },
    {
      "cell_type": "code",
      "metadata": {
        "id": "ZMabIWWjD2_c",
        "colab_type": "code",
        "colab": {
          "base_uri": "https://localhost:8080/",
          "height": 111
        },
        "outputId": "5b38ef10-59c6-4f00-f068-e30329bd2706"
      },
      "source": [
        "display_imgs(xhat.mode(), 'Decoded Modes')"
      ],
      "execution_count": 24,
      "outputs": [
        {
          "output_type": "display_data",
          "data": {
            "image/png": "[encoded data removed]",
            "text/plain": [
              "<Figure size 720x72 with 10 Axes>"
            ]
          },
          "metadata": {
            "tags": []
          }
        }
      ]
    },
    {
      "cell_type": "code",
      "metadata": {
        "id": "kM_qN5aHD2_i",
        "colab_type": "code",
        "colab": {
          "base_uri": "https://localhost:8080/",
          "height": 111
        },
        "outputId": "0e185bfb-1453-4b90-f2a6-1cc64cb661b9"
      },
      "source": [
        "display_imgs(xhat.mean(), 'Decoded Means')"
      ],
      "execution_count": 25,
      "outputs": [
        {
          "output_type": "display_data",
          "data": {
            "image/png": "[encoded data removed]",
            "text/plain": [
              "<Figure size 720x72 with 10 Axes>"
            ]
          },
          "metadata": {
            "tags": []
          }
        }
      ]
    },
    {
      "cell_type": "markdown",
      "metadata": {
        "id": "FlcLG3V_D2_m",
        "colab_type": "text"
      },
      "source": [
        "# Check mode collapse"
      ]
    },
    {
      "cell_type": "code",
      "metadata": {
        "id": "tSkWniCoD2_n",
        "colab_type": "code",
        "colab": {}
      },
      "source": [
        ""
      ],
      "execution_count": 0,
      "outputs": []
    },
    {
      "cell_type": "code",
      "metadata": {
        "id": "GzlQtfm8D2_q",
        "colab_type": "code",
        "colab": {}
      },
      "source": [
        ""
      ],
      "execution_count": 0,
      "outputs": []
    },
    {
      "cell_type": "markdown",
      "metadata": {
        "id": "UsfaejF5D2_t",
        "colab_type": "text"
      },
      "source": [
        "# Anomalous Data"
      ]
    },
    {
      "cell_type": "code",
      "metadata": {
        "id": "MqSo-zMLD2_v",
        "colab_type": "code",
        "colab": {}
      },
      "source": [
        "fashion_mnist = tfds.load('fashion_mnist', split='test')\n",
        "emnist_letters = tfds.load('emnist/letters', split='test')"
      ],
      "execution_count": 0,
      "outputs": []
    },
    {
      "cell_type": "code",
      "metadata": {
        "id": "CaOJUSS7D2_1",
        "colab_type": "code",
        "colab": {}
      },
      "source": [
        "def preprocess_fashion_mnist(sample):\n",
        "    image = tf.cast(sample['image'], tf.float32) / 255.\n",
        "    image = tf.transpose(image, (2, 0, 1))\n",
        "    # image = image < tf.random.uniform(tf.shape(image))\n",
        "    # image = tf.cast(image, tf.float32) - 0.5\n",
        "    return image"
      ],
      "execution_count": 0,
      "outputs": []
    },
    {
      "cell_type": "code",
      "metadata": {
        "id": "C2vsCtMHD2_5",
        "colab_type": "code",
        "colab": {}
      },
      "source": [
        "def preprocess_emnist(sample):\n",
        "    image = tf.cast(sample['image'], tf.float32) / 255.\n",
        "    image = tf.transpose(image, (2, 0, 1))\n",
        "    image = tf.transpose(image, (0, 2, 1))\n",
        "    # image = image < tf.random.uniform(tf.shape(image))\n",
        "    # image = tf.cast(image, tf.float32) - 0.5\n",
        "    return image"
      ],
      "execution_count": 0,
      "outputs": []
    },
    {
      "cell_type": "code",
      "metadata": {
        "id": "XSAuO6lHD2_8",
        "colab_type": "code",
        "colab": {}
      },
      "source": [
        "fashion_mnist = (fashion_mnist\n",
        "                 .map(preprocess_fashion_mnist)\n",
        "                 .batch(64)\n",
        "                 .prefetch(tf.data.experimental.AUTOTUNE))"
      ],
      "execution_count": 0,
      "outputs": []
    },
    {
      "cell_type": "code",
      "metadata": {
        "id": "zJW1okodD3AA",
        "colab_type": "code",
        "colab": {}
      },
      "source": [
        "emnist_letters = (emnist_letters\n",
        "                .map(preprocess_emnist)\n",
        "                .batch(64)\n",
        "                .prefetch(tf.data.experimental.AUTOTUNE)\n",
        "                .shuffle(int(1e3)))"
      ],
      "execution_count": 0,
      "outputs": []
    },
    {
      "cell_type": "code",
      "metadata": {
        "id": "wdyq_hsAD3AF",
        "colab_type": "code",
        "colab": {}
      },
      "source": [
        "def show_images(images, title=None, figsize=(4, 4)):\n",
        "    if isinstance(images, tf.Tensor):\n",
        "        images = images.numpy()\n",
        "    images = images.squeeze()\n",
        "    fig, axarr = plt.subplots(figsize=figsize, ncols=figsize[0], nrows=figsize[1])\n",
        "    for ax, img in zip(axarr.flatten(), images):\n",
        "        ax.imshow(img, cmap=plt.cm.gray)\n",
        "        ax.axis('off')\n",
        "    if title is not None:\n",
        "        fig.suptitle(title, y=1)"
      ],
      "execution_count": 0,
      "outputs": []
    },
    {
      "cell_type": "code",
      "metadata": {
        "id": "sgyzm7kcD3AI",
        "colab_type": "code",
        "colab": {
          "base_uri": "https://localhost:8080/",
          "height": 583
        },
        "outputId": "76455ef5-3944-4906-e493-431b65b5afcf"
      },
      "source": [
        "x_fashion = next(tfds.as_numpy(fashion_mnist))\n",
        "x_fashion_dist = vae(x_fashion)\n",
        "\n",
        "show_images(x_fashion, title='Fashion-MNIST')\n",
        "show_images(x_fashion_dist.sample(), title='Reconstructed Fashion-MNIST Sample')"
      ],
      "execution_count": 40,
      "outputs": [
        {
          "output_type": "display_data",
          "data": {
            "image/png": "[encoded data removed]",
            "text/plain": [
              "<Figure size 288x288 with 16 Axes>"
            ]
          },
          "metadata": {
            "tags": []
          }
        },
        {
          "output_type": "display_data",
          "data": {
            "image/png": "[encoded data removed]",
            "text/plain": [
              "<Figure size 288x288 with 16 Axes>"
            ]
          },
          "metadata": {
            "tags": []
          }
        }
      ]
    },
    {
      "cell_type": "code",
      "metadata": {
        "id": "IisLKGrtD3AN",
        "colab_type": "code",
        "colab": {
          "base_uri": "https://localhost:8080/",
          "height": 583
        },
        "outputId": "8f5c4d72-7292-4ab6-92f1-911f5a291791"
      },
      "source": [
        "x_letters = next(tfds.as_numpy(emnist_letters))\n",
        "x_letters_dist = vae(x_letters)\n",
        "\n",
        "show_images(x_letters, title='EMNIST/letters')\n",
        "show_images(x_letters_dist.sample(), title='Reconstructed EMNIST/letters Sample')"
      ],
      "execution_count": 41,
      "outputs": [
        {
          "output_type": "display_data",
          "data": {
            "image/png": "[encoded data removed]",
            "text/plain": [
              "<Figure size 288x288 with 16 Axes>"
            ]
          },
          "metadata": {
            "tags": []
          }
        },
        {
          "output_type": "display_data",
          "data": {
            "image/png": "[encoded data removed]",
            "text/plain": [
              "<Figure size 288x288 with 16 Axes>"
            ]
          },
          "metadata": {
            "tags": []
          }
        }
      ]
    },
    {
      "cell_type": "code",
      "metadata": {
        "id": "7jup4qPYD3AQ",
        "colab_type": "code",
        "colab": {}
      },
      "source": [
        ""
      ],
      "execution_count": 0,
      "outputs": []
    },
    {
      "cell_type": "code",
      "metadata": {
        "id": "z187oCYbD3A7",
        "colab_type": "code",
        "colab": {}
      },
      "source": [
        "class GenerativeModel(tfk.Model):\n",
        "\n",
        "    def __init__(self, prior, likelihood):\n",
        "        super(GenerativeModel, self).__init__(name='generative_model')\n",
        "        self.prior = prior\n",
        "        self.likelihood = likelihood\n",
        "\n",
        "    def call(self, inputs=None):\n",
        "        return self.likelihood(self.prior.sample(1))\n",
        "\n",
        "generative_model = GenerativeModel(prior, decoder)"
      ],
      "execution_count": 0,
      "outputs": []
    }
  ]
}