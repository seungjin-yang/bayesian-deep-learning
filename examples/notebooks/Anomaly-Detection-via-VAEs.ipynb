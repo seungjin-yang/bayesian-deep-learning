{
 "cells": [
  {
   "cell_type": "markdown",
   "metadata": {},
   "source": [
    "# based on [TFP Probabilistic Layers VAE](https://github.com/tensorflow/probability/blob/master/tensorflow_probability/examples/jupyter_notebooks/Probabilistic_Layers_VAE.ipynb)"
   ]
  },
  {
   "cell_type": "code",
   "execution_count": 1,
   "metadata": {},
   "outputs": [],
   "source": [
    "%matplotlib inline\n",
    "import numpy as np\n",
    "import matplotlib.pyplot as plt\n",
    "\n",
    "import tensorflow as tf\n",
    "import tensorflow_probability as tfp\n",
    "import tensorflow_datasets as tfds\n",
    "\n",
    "import extended_tfp as extfp\n",
    "\n",
    "tfk = tf.keras\n",
    "tfkl = tf.keras.layers\n",
    "tfpl = tfp.layers\n",
    "tfd = tfp.distributions\n",
    "\n",
    "tf.keras.backend.set_image_data_format('channels_first')"
   ]
  },
  {
   "cell_type": "markdown",
   "metadata": {},
   "source": [
    "# Data"
   ]
  },
  {
   "cell_type": "code",
   "execution_count": 2,
   "metadata": {},
   "outputs": [
    {
     "name": "stderr",
     "output_type": "stream",
     "text": [
      "WARNING: Logging before flag parsing goes to stderr.\n",
      "W1008 17:54:01.197091 140541645518656 dataset_builder.py:439] Warning: Setting shuffle_files=True because split=TRAIN and shuffle_files=None. This behavior will be deprecated on 2019-08-06, at which point shuffle_files=False will be the default for all splits.\n"
     ]
    }
   ],
   "source": [
    "datasets, datasets_info = tfds.load(name='mnist', with_info=True, as_supervised=False)"
   ]
  },
  {
   "cell_type": "code",
   "execution_count": 3,
   "metadata": {},
   "outputs": [],
   "source": [
    "def preprocess_mnist(sample):\n",
    "    # Scale to unit interval.\n",
    "    image = tf.cast(sample['image'], tf.float32) / 255.\n",
    "    # NHWC to NCHW\n",
    "    image = tf.transpose(image, (2, 0, 1))\n",
    "    \n",
    "    # Randomly binarize.\n",
    "    # image = image < tf.random.uniform(tf.shape(image))\n",
    "    \n",
    "    input_image = tf.cast(image, tf.float32)\n",
    "    label_image = tf.cast(image, tf.int64)\n",
    "    return input_image, image\n",
    "\n",
    "\n",
    "train_dataset = (datasets['train']\n",
    "                 .map(preprocess_mnist)\n",
    "                 .batch(256)\n",
    "                 .prefetch(tf.data.experimental.AUTOTUNE)\n",
    "                 .shuffle(int(10e3)))\n",
    "\n",
    "eval_dataset = (datasets['test']\n",
    "                .map(preprocess_mnist)\n",
    "                .batch(256)\n",
    "                .prefetch(tf.data.experimental.AUTOTUNE))"
   ]
  },
  {
   "cell_type": "code",
   "execution_count": 74,
   "metadata": {},
   "outputs": [],
   "source": [
    "def build_model(input_shape, encoded_size=16, base_depth=32):\n",
    "    prior = tfd.Independent(\n",
    "        tfd.Normal(loc=tf.zeros(encoded_size), scale=1),\n",
    "        reinterpreted_batch_ndims=1)\n",
    "\n",
    "    # posterior\n",
    "    encoder = tfk.Sequential([\n",
    "        tfkl.InputLayer(input_shape=input_shape),\n",
    "        tfkl.Conv2D(base_depth, 5, strides=1,\n",
    "                    padding='same', activation=tf.nn.leaky_relu),\n",
    "        tfkl.Conv2D(base_depth, 5, strides=2,\n",
    "                    padding='same', activation=tf.nn.leaky_relu),\n",
    "        tfkl.Conv2D(2 * base_depth, 5, strides=1,\n",
    "                    padding='same', activation=tf.nn.leaky_relu),\n",
    "        tfkl.Conv2D(2 * base_depth, 5, strides=2,\n",
    "                    padding='same', activation=tf.nn.leaky_relu),\n",
    "        tfkl.Conv2D(4 * encoded_size, 7, strides=1,\n",
    "                    padding='valid', activation=tf.nn.leaky_relu),\n",
    "        # tfkl.Flatten(),\n",
    "        tfkl.GlobalAveragePooling2D(),\n",
    "        tfkl.Dense(tfpl.MultivariateNormalTriL.params_size(encoded_size),\n",
    "                   activation=None),\n",
    "        tfpl.MultivariateNormalTriL(\n",
    "            encoded_size,\n",
    "            activity_regularizer=tfpl.KLDivergenceRegularizer(prior)),\n",
    "    ])\n",
    "    \n",
    "    # likelihood\n",
    "    decoder = tfk.Sequential([\n",
    "        tfkl.InputLayer(input_shape=[encoded_size]),\n",
    "        tfkl.Reshape([encoded_size, 1, 1]),\n",
    "        tfkl.Conv2DTranspose(2 * base_depth, 7, strides=1,\n",
    "                             padding='valid', activation=tf.nn.leaky_relu),\n",
    "        tfkl.Conv2DTranspose(2 * base_depth, 5, strides=1,\n",
    "                             padding='same', activation=tf.nn.leaky_relu),\n",
    "        tfkl.Conv2DTranspose(2 * base_depth, 5, strides=2,\n",
    "                             padding='same', activation=tf.nn.leaky_relu),\n",
    "        tfkl.Conv2DTranspose(base_depth, 5, strides=1,\n",
    "                             padding='same', activation=tf.nn.leaky_relu),\n",
    "        tfkl.Conv2DTranspose(base_depth, 5, strides=2,\n",
    "                             padding='same', activation=tf.nn.leaky_relu),\n",
    "        tfkl.Conv2DTranspose(base_depth, 5, strides=1,\n",
    "                             padding='same', activation=tf.nn.leaky_relu),\n",
    "        tfkl.Conv2D(filters=1, kernel_size=5, strides=1,\n",
    "                    padding='same', activation=None),\n",
    "        tfkl.Flatten(),\n",
    "        tfpl.IndependentBernoulli(\n",
    "            event_shape=input_shape,\n",
    "            convert_to_tensor_fn=tfd.Bernoulli.logits),\n",
    "    ])\n",
    "    \n",
    "    vae = tfk.Model(\n",
    "        inputs=encoder.inputs,\n",
    "        outputs=decoder(encoder.outputs[0]))\n",
    "    \n",
    "    return vae, encoder, decoder, prior"
   ]
  },
  {
   "cell_type": "code",
   "execution_count": 75,
   "metadata": {},
   "outputs": [],
   "source": [
    "vae, encoder, decoder, prior = build_model(input_shape=train_dataset.output_shapes[0][1:])"
   ]
  },
  {
   "cell_type": "code",
   "execution_count": 78,
   "metadata": {},
   "outputs": [
    {
     "name": "stdout",
     "output_type": "stream",
     "text": [
      "Model: \"sequential_4\"\n",
      "_________________________________________________________________\n",
      "Layer (type)                 Output Shape              Param #   \n",
      "=================================================================\n",
      "conv2d_12 (Conv2D)           (None, 32, 28, 28)        832       \n",
      "_________________________________________________________________\n",
      "conv2d_13 (Conv2D)           (None, 32, 14, 14)        25632     \n",
      "_________________________________________________________________\n",
      "conv2d_14 (Conv2D)           (None, 64, 14, 14)        51264     \n",
      "_________________________________________________________________\n",
      "conv2d_15 (Conv2D)           (None, 64, 7, 7)          102464    \n",
      "_________________________________________________________________\n",
      "conv2d_16 (Conv2D)           (None, 64, 1, 1)          200768    \n",
      "_________________________________________________________________\n",
      "global_average_pooling2d_2 ( (None, 64)                0         \n",
      "_________________________________________________________________\n",
      "dense_2 (Dense)              (None, 152)               9880      \n",
      "_________________________________________________________________\n",
      "multivariate_normal_tri_l_2  ((None, 16), (None, 16))  0         \n",
      "=================================================================\n",
      "Total params: 390,840\n",
      "Trainable params: 390,840\n",
      "Non-trainable params: 0\n",
      "_________________________________________________________________\n"
     ]
    }
   ],
   "source": [
    "encoder.summary()"
   ]
  },
  {
   "cell_type": "code",
   "execution_count": 80,
   "metadata": {},
   "outputs": [
    {
     "name": "stdout",
     "output_type": "stream",
     "text": [
      "Model: \"sequential_5\"\n",
      "_________________________________________________________________\n",
      "Layer (type)                 Output Shape              Param #   \n",
      "=================================================================\n",
      "reshape_2 (Reshape)          (None, 16, 1, 1)          0         \n",
      "_________________________________________________________________\n",
      "conv2d_transpose_12 (Conv2DT (None, 64, 7, 7)          50240     \n",
      "_________________________________________________________________\n",
      "conv2d_transpose_13 (Conv2DT (None, 64, 7, 7)          102464    \n",
      "_________________________________________________________________\n",
      "conv2d_transpose_14 (Conv2DT (None, 64, 14, 14)        102464    \n",
      "_________________________________________________________________\n",
      "conv2d_transpose_15 (Conv2DT (None, 32, 14, 14)        51232     \n",
      "_________________________________________________________________\n",
      "conv2d_transpose_16 (Conv2DT (None, 32, 28, 28)        25632     \n",
      "_________________________________________________________________\n",
      "conv2d_transpose_17 (Conv2DT (None, 32, 28, 28)        25632     \n",
      "_________________________________________________________________\n",
      "conv2d_17 (Conv2D)           (None, 1, 28, 28)         801       \n",
      "_________________________________________________________________\n",
      "flatten_2 (Flatten)          (None, 784)               0         \n",
      "_________________________________________________________________\n",
      "independent_bernoulli_2 (Ind ((None, 1, 28, 28), (None 0         \n",
      "=================================================================\n",
      "Total params: 358,465\n",
      "Trainable params: 358,465\n",
      "Non-trainable params: 0\n",
      "_________________________________________________________________\n"
     ]
    }
   ],
   "source": [
    "decoder.summary()"
   ]
  },
  {
   "cell_type": "code",
   "execution_count": 81,
   "metadata": {},
   "outputs": [],
   "source": [
    "vae.compile(\n",
    "    optimizer=tf.optimizers.Adam(learning_rate=1e-3),\n",
    "    loss=extfp.losses.negative_log_likelihood)"
   ]
  },
  {
   "cell_type": "code",
   "execution_count": 82,
   "metadata": {},
   "outputs": [
    {
     "name": "stdout",
     "output_type": "stream",
     "text": [
      "Epoch 1/15\n",
      "235/235 [==============================] - 15s 66ms/step - loss: 241.5700 - val_loss: 0.0000e+00\n",
      "Epoch 2/15\n",
      "235/235 [==============================] - 14s 59ms/step - loss: 161.8964 - val_loss: 147.3864\n",
      "Epoch 3/15\n",
      "235/235 [==============================] - 13s 57ms/step - loss: 143.9048 - val_loss: 138.4174\n",
      "Epoch 4/15\n",
      "235/235 [==============================] - 14s 58ms/step - loss: 136.9084 - val_loss: 133.3128\n",
      "Epoch 5/15\n",
      "235/235 [==============================] - 14s 59ms/step - loss: 132.3885 - val_loss: 128.9786\n",
      "Epoch 6/15\n",
      "235/235 [==============================] - 14s 58ms/step - loss: 128.5611 - val_loss: 126.5974\n",
      "Epoch 7/15\n",
      "235/235 [==============================] - 14s 59ms/step - loss: 126.4536 - val_loss: 125.3480\n",
      "Epoch 8/15\n",
      "235/235 [==============================] - 14s 58ms/step - loss: 124.8457 - val_loss: 123.1943\n",
      "Epoch 9/15\n",
      "235/235 [==============================] - 14s 59ms/step - loss: 123.3770 - val_loss: 123.0984\n",
      "Epoch 10/15\n",
      "235/235 [==============================] - 13s 57ms/step - loss: 122.6193 - val_loss: 121.4705\n",
      "Epoch 11/15\n",
      "235/235 [==============================] - 13s 57ms/step - loss: 121.4649 - val_loss: 120.9583\n",
      "Epoch 12/15\n",
      "235/235 [==============================] - 13s 57ms/step - loss: 120.7624 - val_loss: 121.4561\n",
      "Epoch 13/15\n",
      "235/235 [==============================] - 13s 57ms/step - loss: 120.0258 - val_loss: 120.1297\n",
      "Epoch 14/15\n",
      "235/235 [==============================] - 14s 58ms/step - loss: 119.4566 - val_loss: 119.0774\n",
      "Epoch 15/15\n",
      "235/235 [==============================] - 14s 58ms/step - loss: 118.9995 - val_loss: 119.8721\n"
     ]
    }
   ],
   "source": [
    "history = vae.fit(train_dataset, epochs=15, validation_data=eval_dataset)"
   ]
  },
  {
   "cell_type": "code",
   "execution_count": 84,
   "metadata": {},
   "outputs": [
    {
     "data": {
      "image/png": "[encoded data removed]",
      "text/plain": [
       "<Figure size 432x288 with 1 Axes>"
      ]
     },
     "metadata": {
      "needs_background": "light"
     },
     "output_type": "display_data"
    }
   ],
   "source": [
    "loss = history.history['loss']\n",
    "epoch = range(1, len(loss) + 1)\n",
    "\n",
    "plt.plot(epoch, loss)\n",
    "plt.plot(epoch, history.history['val_loss'])\n",
    "\n",
    "_ = plt.xticks(epoch)\n",
    "plt.grid()"
   ]
  },
  {
   "cell_type": "markdown",
   "metadata": {},
   "source": [
    "# Visualize"
   ]
  },
  {
   "cell_type": "code",
   "execution_count": 94,
   "metadata": {},
   "outputs": [],
   "source": [
    "# We'll just examine ten random digits.\n",
    "x = next(iter(eval_dataset))[0][:10]\n",
    "xhat = vae(x)\n",
    "assert isinstance(xhat, tfd.Distribution)"
   ]
  },
  {
   "cell_type": "code",
   "execution_count": 95,
   "metadata": {},
   "outputs": [],
   "source": [
    "def display_imgs(x, title=None):\n",
    "    if not isinstance(x, (np.ndarray, np.generic)):\n",
    "        x = np.array(x)\n",
    "    n = x.shape[0]\n",
    "    fig, axarr = plt.subplots(1, n, figsize=(n, 1))\n",
    "    \n",
    "    if title is not None:\n",
    "        fig.suptitle(title, y=1.05)\n",
    "    \n",
    "    for i in range(n):\n",
    "        axarr.flat[i].imshow(x[i].squeeze(), interpolation='none', cmap='gray')\n",
    "        axarr.flat[i].axis('off')"
   ]
  },
  {
   "cell_type": "code",
   "execution_count": 96,
   "metadata": {},
   "outputs": [
    {
     "data": {
      "image/png": "[encoded data removed]",
      "text/plain": [
       "<Figure size 720x72 with 10 Axes>"
      ]
     },
     "metadata": {
      "needs_background": "light"
     },
     "output_type": "display_data"
    }
   ],
   "source": [
    "display_imgs(x, 'Originals')"
   ]
  },
  {
   "cell_type": "code",
   "execution_count": 97,
   "metadata": {},
   "outputs": [
    {
     "data": {
      "image/png": "[encoded data removed]",
      "text/plain": [
       "<Figure size 720x72 with 10 Axes>"
      ]
     },
     "metadata": {
      "needs_background": "light"
     },
     "output_type": "display_data"
    }
   ],
   "source": [
    "display_imgs(xhat.sample(), 'Decoded Random Samples')"
   ]
  },
  {
   "cell_type": "code",
   "execution_count": 98,
   "metadata": {},
   "outputs": [
    {
     "data": {
      "image/png": "[encoded data removed]",
      "text/plain": [
       "<Figure size 720x72 with 10 Axes>"
      ]
     },
     "metadata": {
      "needs_background": "light"
     },
     "output_type": "display_data"
    }
   ],
   "source": [
    "display_imgs(xhat.mode(), 'Decoded Modes')"
   ]
  },
  {
   "cell_type": "code",
   "execution_count": 99,
   "metadata": {},
   "outputs": [
    {
     "data": {
      "image/png": "[encoded data removed]",
      "text/plain": [
       "<Figure size 720x72 with 10 Axes>"
      ]
     },
     "metadata": {
      "needs_background": "light"
     },
     "output_type": "display_data"
    }
   ],
   "source": [
    "display_imgs(xhat.mean(), 'Decoded Means')"
   ]
  },
  {
   "cell_type": "markdown",
   "metadata": {},
   "source": [
    "# Check mode collapse"
   ]
  },
  {
   "cell_type": "code",
   "execution_count": null,
   "metadata": {},
   "outputs": [],
   "source": []
  },
  {
   "cell_type": "code",
   "execution_count": null,
   "metadata": {},
   "outputs": [],
   "source": []
  },
  {
   "cell_type": "markdown",
   "metadata": {},
   "source": [
    "# Anomalous Data"
   ]
  },
  {
   "cell_type": "code",
   "execution_count": 100,
   "metadata": {},
   "outputs": [],
   "source": [
    "fashion_mnist = tfds.load('fashion_mnist', split='test')\n",
    "emnist_letters = tfds.load('emnist/letters', split='test')"
   ]
  },
  {
   "cell_type": "code",
   "execution_count": 101,
   "metadata": {},
   "outputs": [],
   "source": [
    "def preprocess_fashion_mnist(sample):\n",
    "    image = tf.cast(sample['image'], tf.float32) / 255.\n",
    "    image = tf.transpose(image, (2, 0, 1))\n",
    "    # image = image < tf.random.uniform(tf.shape(image))\n",
    "    # image = tf.cast(image, tf.float32) - 0.5\n",
    "    return image"
   ]
  },
  {
   "cell_type": "code",
   "execution_count": 102,
   "metadata": {},
   "outputs": [],
   "source": [
    "def preprocess_emnist(sample):\n",
    "    image = tf.cast(sample['image'], tf.float32) / 255.\n",
    "    image = tf.transpose(image, (2, 0, 1))\n",
    "    image = tf.transpose(image, (0, 2, 1))\n",
    "    # image = image < tf.random.uniform(tf.shape(image))\n",
    "    # image = tf.cast(image, tf.float32) - 0.5\n",
    "    return image"
   ]
  },
  {
   "cell_type": "code",
   "execution_count": 103,
   "metadata": {},
   "outputs": [],
   "source": [
    "fashion_mnist = (fashion_mnist\n",
    "                 .map(preprocess_fashion_mnist)\n",
    "                 .batch(64)\n",
    "                 .prefetch(tf.data.experimental.AUTOTUNE))"
   ]
  },
  {
   "cell_type": "code",
   "execution_count": 104,
   "metadata": {},
   "outputs": [],
   "source": [
    "emnist_letters = (emnist_letters\n",
    "                .map(preprocess_emnist)\n",
    "                .batch(64)\n",
    "                .prefetch(tf.data.experimental.AUTOTUNE)).shuffle(int(1e3))"
   ]
  },
  {
   "cell_type": "code",
   "execution_count": 105,
   "metadata": {},
   "outputs": [],
   "source": [
    "def show_images(images, title=None, figsize=(4, 4)):\n",
    "    if isinstance(images, tf.Tensor):\n",
    "        images = images.numpy()\n",
    "    images = images.squeeze()\n",
    "    fig, axarr = plt.subplots(figsize=figsize, ncols=figsize[0], nrows=figsize[1])\n",
    "    for ax, img in zip(axarr.flatten(), images):\n",
    "        ax.imshow(img, cmap=plt.cm.gray)\n",
    "        ax.axis('off')\n",
    "    if title is not None:\n",
    "        fig.suptitle(title, y=1)"
   ]
  },
  {
   "cell_type": "code",
   "execution_count": 106,
   "metadata": {},
   "outputs": [
    {
     "data": {
      "image/png": "[encoded data removed]",
      "text/plain": [
       "<Figure size 288x288 with 16 Axes>"
      ]
     },
     "metadata": {
      "needs_background": "light"
     },
     "output_type": "display_data"
    },
    {
     "data": {
      "image/png": "[encoded data removed]",
      "text/plain": [
       "<Figure size 288x288 with 16 Axes>"
      ]
     },
     "metadata": {
      "needs_background": "light"
     },
     "output_type": "display_data"
    }
   ],
   "source": [
    "x_fashion = next(tfds.as_numpy(fashion_mnist))\n",
    "x_fashion_dist = vae(x_fashion)\n",
    "\n",
    "show_images(x_fashion, title='Fashion-MNIST')\n",
    "show_images(x_fashion_dist.sample(), title='Reconstructed Fashion-MNIST Sample')"
   ]
  },
  {
   "cell_type": "code",
   "execution_count": 107,
   "metadata": {},
   "outputs": [
    {
     "data": {
      "image/png": "[encoded data removed]",
      "text/plain": [
       "<Figure size 288x288 with 16 Axes>"
      ]
     },
     "metadata": {
      "needs_background": "light"
     },
     "output_type": "display_data"
    },
    {
     "data": {
      "image/png": "[encoded data removed]",
      "text/plain": [
       "<Figure size 288x288 with 16 Axes>"
      ]
     },
     "metadata": {
      "needs_background": "light"
     },
     "output_type": "display_data"
    }
   ],
   "source": [
    "x_letters = next(tfds.as_numpy(emnist_letters))\n",
    "x_letters_dist = vae(x_letters)\n",
    "\n",
    "show_images(x_letters, title='EMNIST/letters')\n",
    "show_images(x_letters_dist.sample(), title='Reconstructed EMNIST/letters Sample')"
   ]
  },
  {
   "cell_type": "code",
   "execution_count": null,
   "metadata": {},
   "outputs": [],
   "source": []
  },
  {
   "cell_type": "code",
   "execution_count": null,
   "metadata": {},
   "outputs": [],
   "source": []
  },
  {
   "cell_type": "code",
   "execution_count": null,
   "metadata": {},
   "outputs": [],
   "source": []
  },
  {
   "cell_type": "code",
   "execution_count": 108,
   "metadata": {},
   "outputs": [],
   "source": [
    "vae.predict?"
   ]
  },
  {
   "cell_type": "code",
   "execution_count": null,
   "metadata": {},
   "outputs": [],
   "source": []
  },
  {
   "cell_type": "code",
   "execution_count": null,
   "metadata": {},
   "outputs": [],
   "source": []
  },
  {
   "cell_type": "code",
   "execution_count": null,
   "metadata": {},
   "outputs": [],
   "source": []
  },
  {
   "cell_type": "code",
   "execution_count": null,
   "metadata": {},
   "outputs": [],
   "source": []
  },
  {
   "cell_type": "code",
   "execution_count": null,
   "metadata": {},
   "outputs": [],
   "source": []
  },
  {
   "cell_type": "code",
   "execution_count": null,
   "metadata": {},
   "outputs": [],
   "source": []
  },
  {
   "cell_type": "code",
   "execution_count": null,
   "metadata": {},
   "outputs": [],
   "source": []
  },
  {
   "cell_type": "code",
   "execution_count": null,
   "metadata": {},
   "outputs": [],
   "source": []
  },
  {
   "cell_type": "code",
   "execution_count": null,
   "metadata": {},
   "outputs": [],
   "source": []
  },
  {
   "cell_type": "code",
   "execution_count": 48,
   "metadata": {},
   "outputs": [],
   "source": [
    "class GenerativeModel(tfk.Model):\n",
    "\n",
    "    def __init__(self, prior, likelihood):\n",
    "        super(GenerativeModel, self).__init__(name='generative_model')\n",
    "        self.prior = prior\n",
    "        self.likelihood = likelihood\n",
    "\n",
    "    def call(self, inputs=None):\n",
    "        return self.likelihood(self.prior.sample(1))\n",
    "\n",
    "generative_model = GenerativeModel(prior, decoder)"
   ]
  }
 ],
 "metadata": {
  "kernelspec": {
   "display_name": "Python 3",
   "language": "python",
   "name": "python3"
  },
  "language_info": {
   "codemirror_mode": {
    "name": "ipython",
    "version": 3
   },
   "file_extension": ".py",
   "mimetype": "text/x-python",
   "name": "python",
   "nbconvert_exporter": "python",
   "pygments_lexer": "ipython3",
   "version": "3.7.3"
  }
 },
 "nbformat": 4,
 "nbformat_minor": 2
}
