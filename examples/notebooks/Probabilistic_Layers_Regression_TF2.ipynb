{
  "nbformat": 4,
  "nbformat_minor": 0,
  "metadata": {
    "colab": {
      "name": "Probabilistic_Layers_Regression.ipynb",
      "provenance": [],
      "collapsed_sections": []
    },
    "kernelspec": {
      "name": "python3",
      "display_name": "Python 3"
    },
    "accelerator": "GPU"
  },
  "cells": [
    {
      "cell_type": "code",
      "metadata": {
        "id": "CseFss06heZ5",
        "colab_type": "code",
        "colab": {
          "base_uri": "https://localhost:8080/",
          "height": 68
        },
        "outputId": "2c8b868f-e302-467e-aaaa-b6d47ab79443"
      },
      "source": [
        "%%bash\n",
        "pip install -q --upgrade tensorflow-gpu==2.0.0\n",
        "pip install -q --upgrade tensorflow-probability"
      ],
      "execution_count": 1,
      "outputs": [
        {
          "output_type": "stream",
          "text": [
            "ERROR: tensorflow 1.15.0 has requirement tensorboard<1.16.0,>=1.15.0, but you'll have tensorboard 2.0.0 which is incompatible.\n",
            "ERROR: tensorflow 1.15.0 has requirement tensorflow-estimator==1.15.1, but you'll have tensorflow-estimator 2.0.1 which is incompatible.\n",
            "ERROR: tensor2tensor 1.14.1 has requirement tensorflow-probability==0.7.0, but you'll have tensorflow-probability 0.8.0 which is incompatible.\n"
          ],
          "name": "stderr"
        }
      ]
    },
    {
      "cell_type": "code",
      "metadata": {
        "colab_type": "code",
        "id": "kZ0MdF1j8WJf",
        "colab": {}
      },
      "source": [
        "%matplotlib inline\n",
        "\n",
        "import numpy as np\n",
        "\n",
        "import tensorflow as tf\n",
        "import tensorflow.keras as tfk\n",
        "import tensorflow_probability as tfp\n",
        "\n",
        "tfpl = tfp.layers\n",
        "tfd = tfp.distributions"
      ],
      "execution_count": 0,
      "outputs": []
    },
    {
      "cell_type": "code",
      "metadata": {
        "id": "8gt3ejZ2ifZ_",
        "colab_type": "code",
        "colab": {}
      },
      "source": [
        "w0 = 0.125\n",
        "b0 = 5.\n",
        "x_range = [-20, 60]\n",
        "\n",
        "def load_dataset(n=150, n_tst=150):\n",
        "    np.random.seed(43)\n",
        "    def s(x):\n",
        "        g = (x - x_range[0]) / (x_range[1] - x_range[0])\n",
        "        return 3 * (0.25 + g**2.)\n",
        "    x = (x_range[1] - x_range[0]) * np.random.rand(n) + x_range[0]\n",
        "    eps = np.random.randn(n) * s(x)\n",
        "    y = (w0 * x * (1. + np.sin(x)) + b0) + eps\n",
        "    x = x[..., np.newaxis].astype(np.float32)\n",
        "    x_tst = np.linspace(*x_range, num=n_tst)\n",
        "    x_tst = x_tst[..., np.newaxis]\n",
        "\n",
        "    y = y.astype(np.float32)\n",
        "    x = x.astype(np.float32)\n",
        "    x_tst = x_tst.astype(np.float32)\n",
        "    return y, x, x_tst\n",
        "\n",
        "y, x, x_tst = load_dataset()"
      ],
      "execution_count": 0,
      "outputs": []
    },
    {
      "cell_type": "code",
      "metadata": {
        "colab_type": "code",
        "id": "3PFfNeJzifo7",
        "colab": {}
      },
      "source": [
        "negloglik = lambda y, rv_y: -rv_y.log_prob(y)"
      ],
      "execution_count": 0,
      "outputs": []
    },
    {
      "cell_type": "code",
      "metadata": {
        "cellView": "both",
        "colab_type": "code",
        "id": "aAQhyK9Y_lm1",
        "colab": {}
      },
      "source": [
        "def posterior_mean_field(kernel_size, bias_size=0, dtype=None):\n",
        "    n = kernel_size + bias_size\n",
        "    c = np.log(np.expm1(1.0))\n",
        "    return tfk.Sequential([\n",
        "        tfp.layers.VariableLayer(2*n, dtype=dtype),\n",
        "        tfp.layers.DistributionLambda(lambda t: tfd.Independent(\n",
        "            tfd.Normal(loc=t[..., :n],\n",
        "                       scale=1e-5 + tf.nn.softplus(c + t[..., n:])),\n",
        "            reinterpreted_batch_ndims=1))\n",
        "    ])\n",
        "\n",
        "def prior(kernel_size, bias_size=0, dtype=None):\n",
        "    n = kernel_size + bias_size\n",
        "    return tfk.Sequential([\n",
        "        tfp.layers.VariableLayer(n, dtype=dtype, trainable=False),\n",
        "        tfp.layers.DistributionLambda(lambda t: tfd.Independent(\n",
        "            tfd.Normal(loc=t, scale=1),\n",
        "            reinterpreted_batch_ndims=1))\n",
        "    ])"
      ],
      "execution_count": 0,
      "outputs": []
    },
    {
      "cell_type": "code",
      "metadata": {
        "colab_type": "code",
        "id": "GcRC3uwcft6l",
        "colab": {}
      },
      "source": [
        "model = tfk.Sequential([\n",
        "    tfp.layers.DenseVariational(1, posterior_mean_field, prior, kl_weight=1/x.shape[0]),\n",
        "    tfp.layers.DistributionLambda(lambda t: tfd.Normal(loc=t, scale=1))\n",
        "])"
      ],
      "execution_count": 0,
      "outputs": []
    },
    {
      "cell_type": "code",
      "metadata": {
        "id": "vKXEFvfEiIiH",
        "colab_type": "code",
        "colab": {}
      },
      "source": [
        "optimizer = tfk.optimizers.Adam(learning_rate=0.01)\n",
        "train_loss = tfk.metrics.Mean(name='train_loss')    "
      ],
      "execution_count": 0,
      "outputs": []
    },
    {
      "cell_type": "code",
      "metadata": {
        "id": "a3KvbFH2iIml",
        "colab_type": "code",
        "colab": {}
      },
      "source": [
        "def train_step(x, y):\n",
        "    with tf.GradientTape() as tape:\n",
        "        ŷ = model(x)\n",
        "        loss = -tf.reduce_mean(ŷ.log_prob(tf.reshape(y, ŷ.shape)))\n",
        "        loss += sum(model.losses) # kl divergence loss\n",
        "    gradients = tape.gradient(loss, model.trainable_variables)\n",
        "    optimizer.apply_gradients(zip(gradients, model.trainable_variables))\n",
        "    \n",
        "    train_loss(loss)"
      ],
      "execution_count": 0,
      "outputs": []
    },
    {
      "cell_type": "code",
      "metadata": {
        "id": "oj_cY66yiIp6",
        "colab_type": "code",
        "colab": {
          "base_uri": "https://localhost:8080/",
          "height": 102
        },
        "outputId": "8ed0194d-661e-42c4-d208-179b04cac16b"
      },
      "source": [
        "for i in range(1000):\n",
        "    train_step(x, y)\n",
        "    if i % 200 == 0:\n",
        "        print(\"epoch: {} loss: {}\".format(i, train_loss.result().numpy()))\n",
        "        train_loss.reset_states()"
      ],
      "execution_count": 9,
      "outputs": [
        {
          "output_type": "stream",
          "text": [
            "epoch: 0 loss: 240.15577697753906\n",
            "epoch: 200 loss: 277.5927734375\n",
            "epoch: 400 loss: 101.48238372802734\n",
            "epoch: 600 loss: 55.88340377807617\n",
            "epoch: 800 loss: 40.153587341308594\n"
          ],
          "name": "stdout"
        }
      ]
    },
    {
      "cell_type": "code",
      "metadata": {
        "id": "2H8SavywiItD",
        "colab_type": "code",
        "colab": {}
      },
      "source": [
        ""
      ],
      "execution_count": 0,
      "outputs": []
    }
  ]
}