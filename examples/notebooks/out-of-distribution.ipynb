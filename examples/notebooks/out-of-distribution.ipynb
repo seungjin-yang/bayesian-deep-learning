{
 "cells": [
  {
   "cell_type": "code",
   "execution_count": 1,
   "metadata": {},
   "outputs": [],
   "source": [
    "%matplotlib inline\n",
    "import random\n",
    "\n",
    "import numpy as np\n",
    "import matplotlib.pyplot as plt\n",
    "\n",
    "import tensorflow as tf\n",
    "from tensorflow import keras\n",
    "import tensorflow.keras.backend as K\n",
    "import tensorflow.keras.layers as tfkl\n",
    "import tensorflow_probability as tfp\n",
    "\n",
    "import extended_tfp as extfp\n",
    "\n",
    "tfd = tfp.distributions\n",
    "tfpl = tfp.layers"
   ]
  },
  {
   "cell_type": "markdown",
   "metadata": {},
   "source": [
    "# Version"
   ]
  },
  {
   "cell_type": "code",
   "execution_count": 2,
   "metadata": {},
   "outputs": [],
   "source": [
    "assert tf.version.VERSION == '2.0.0-rc1'\n",
    "assert tfp.__version__ == '0.8.0-rc0'"
   ]
  },
  {
   "cell_type": "markdown",
   "metadata": {},
   "source": [
    "# Reproducibility"
   ]
  },
  {
   "cell_type": "code",
   "execution_count": 3,
   "metadata": {},
   "outputs": [],
   "source": [
    "seed = 777\n",
    "random.seed(seed)\n",
    "np.random.seed(seed)\n",
    "tf.random.set_seed(seed)"
   ]
  },
  {
   "cell_type": "markdown",
   "metadata": {},
   "source": [
    "# Data"
   ]
  },
  {
   "cell_type": "code",
   "execution_count": 4,
   "metadata": {},
   "outputs": [],
   "source": [
    "def transform_image(x):\n",
    "    x = x[:, np.newaxis]\n",
    "    x = x.astype(np.float32)\n",
    "    x /= 255\n",
    "    return x"
   ]
  },
  {
   "cell_type": "code",
   "execution_count": 5,
   "metadata": {},
   "outputs": [],
   "source": [
    "def visualize_mnist(x, num_cols=5, image_size=2):\n",
    "    x = x.squeeze()\n",
    "    rank = len(x.shape)\n",
    "    if rank == 2:\n",
    "        fig, ax = plt.subplots(figsize=(6, 6))\n",
    "        ax.imshow(x)\n",
    "        ax.tick_params(axis='both', bottom=False, labelbottom=False, left=False, labelleft=False)\n",
    "    if rank == 3:\n",
    "        num_images = len(x)\n",
    "        num_rows = np.ceil(num_images / num_cols).astype(int)\n",
    "        figsize = (image_size * num_cols, image_size * num_rows)\n",
    "        fig, axarr = plt.subplots(nrows=num_rows, ncols=num_cols, figsize=figsize)\n",
    "        for img, ax in zip(x, axarr.flatten()):\n",
    "            ax.imshow(img)\n",
    "            ax.tick_params(axis='both', bottom=False, labelbottom=False, left=False, labelleft=False)\n",
    "    "
   ]
  },
  {
   "cell_type": "code",
   "execution_count": 6,
   "metadata": {},
   "outputs": [
    {
     "name": "stdout",
     "output_type": "stream",
     "text": [
      "(50000, 1, 28, 28)\n",
      "(10000, 1, 28, 28)\n",
      "(10000, 1, 28, 28)\n"
     ]
    }
   ],
   "source": [
    "(x_train, y_train), (x_test, y_test) = keras.datasets.mnist.load_data('/tmp/mnist.npz')\n",
    "\n",
    "x_train = transform_image(x_train)\n",
    "x_test = transform_image(x_test)\n",
    "\n",
    "x_valid = x_train[-10000:]\n",
    "x_train = x_train[:-10000]\n",
    "\n",
    "y_valid = y_train[-10000:]\n",
    "y_train = y_train[:-10000]\n",
    "\n",
    "print(x_train.shape)\n",
    "print(x_valid.shape)\n",
    "print(x_test.shape)\n",
    "\n",
    "input_shape = x_train.shape[1:]\n",
    "num_classes = 10\n",
    "\n",
    "y_train = keras.utils.to_categorical(y_train, num_classes)\n",
    "y_valid = keras.utils.to_categorical(y_valid, num_classes)\n",
    "y_test = keras.utils.to_categorical(y_test, num_classes)"
   ]
  },
  {
   "cell_type": "code",
   "execution_count": 7,
   "metadata": {},
   "outputs": [
    {
     "data": {
      "image/png": "[encoded data removed]",
      "text/plain": [
       "<Figure size 720x288 with 10 Axes>"
      ]
     },
     "metadata": {},
     "output_type": "display_data"
    }
   ],
   "source": [
    "visualize_mnist(x_train[:10])"
   ]
  },
  {
   "cell_type": "markdown",
   "metadata": {},
   "source": [
    "# Model Building"
   ]
  },
  {
   "cell_type": "code",
   "execution_count": 8,
   "metadata": {},
   "outputs": [
    {
     "name": "stdout",
     "output_type": "stream",
     "text": [
      "KL weight: 2e-05\n"
     ]
    }
   ],
   "source": [
    "kl_weight = 1 / len(x_train)\n",
    "print(f'KL weight: {kl_weight}')"
   ]
  },
  {
   "cell_type": "code",
   "execution_count": 9,
   "metadata": {},
   "outputs": [],
   "source": [
    "model = tf.keras.Sequential([\n",
    "    tf.keras.layers.Input(shape=input_shape),\n",
    "    extfp.layers.Conv2DVariational(\n",
    "        filters=32,\n",
    "        kernel_size=(5, 5),\n",
    "        make_posterior_fn=extfp.layers.posterior_mean_field,\n",
    "        make_prior_fn=extfp.layers.prior_trainable,\n",
    "        kl_weight=kl_weight,\n",
    "        activation='softplus'),\n",
    "    extfp.layers.Conv2DVariational(\n",
    "        filters=64,\n",
    "        kernel_size=(5, 5),\n",
    "        make_posterior_fn=extfp.layers.posterior_mean_field,\n",
    "        make_prior_fn=extfp.layers.prior_trainable,\n",
    "        kl_weight=kl_weight,\n",
    "        activation='softplus'),\n",
    "    tf.keras.layers.MaxPooling2D(3, 3),\n",
    "    tf.keras.layers.GlobalAveragePooling2D(),\n",
    "    tfp.layers.DenseVariational(\n",
    "        units=128,\n",
    "        make_posterior_fn=extfp.layers.posterior_mean_field,\n",
    "        make_prior_fn=extfp.layers.prior_trainable,\n",
    "        kl_weight=kl_weight,\n",
    "        activation='softplus'),\n",
    "    tfp.layers.DenseVariational(\n",
    "        units=10,\n",
    "        make_posterior_fn=extfp.layers.posterior_mean_field,\n",
    "        make_prior_fn=extfp.layers.prior_trainable,\n",
    "        kl_weight=kl_weight),\n",
    "    tfpl.OneHotCategorical(num_classes),\n",
    "])"
   ]
  },
  {
   "cell_type": "code",
   "execution_count": 10,
   "metadata": {},
   "outputs": [
    {
     "name": "stdout",
     "output_type": "stream",
     "text": [
      "Model: \"sequential\"\n",
      "_________________________________________________________________\n",
      "Layer (type)                 Output Shape              Param #   \n",
      "=================================================================\n",
      "conv2d_variational (Conv2DVa (None, 32, 24, 24)        2496      \n",
      "_________________________________________________________________\n",
      "conv2d_variational_1 (Conv2D (None, 64, 20, 20)        153792    \n",
      "_________________________________________________________________\n",
      "max_pooling2d (MaxPooling2D) (None, 64, 6, 6)          0         \n",
      "_________________________________________________________________\n",
      "global_average_pooling2d (Gl (None, 64)                0         \n",
      "_________________________________________________________________\n",
      "dense_variational (DenseVari (None, 128)               24960     \n",
      "_________________________________________________________________\n",
      "dense_variational_1 (DenseVa (None, 10)                3870      \n",
      "_________________________________________________________________\n",
      "one_hot_categorical (OneHotC ((None, 10), (None, 10))  0         \n",
      "=================================================================\n",
      "Total params: 185,118\n",
      "Trainable params: 185,118\n",
      "Non-trainable params: 0\n",
      "_________________________________________________________________\n"
     ]
    }
   ],
   "source": [
    "model.summary()"
   ]
  },
  {
   "cell_type": "markdown",
   "metadata": {},
   "source": [
    "# Training"
   ]
  },
  {
   "cell_type": "code",
   "execution_count": 11,
   "metadata": {},
   "outputs": [],
   "source": [
    "model.compile(loss=extfp.losses.negative_log_likelihood,\n",
    "              optimizer=tf.keras.optimizers.Adam(learning_rate=0.1),\n",
    "              metrics=['accuracy'])"
   ]
  },
  {
   "cell_type": "code",
   "execution_count": 12,
   "metadata": {},
   "outputs": [],
   "source": [
    "callbacks = [\n",
    "    tf.keras.callbacks.EarlyStopping(monitor='val_loss', patience=5, restore_best_weights=True)\n",
    "]"
   ]
  },
  {
   "cell_type": "markdown",
   "metadata": {},
   "source": [
    "`TODO` save the model"
   ]
  },
  {
   "cell_type": "code",
   "execution_count": 13,
   "metadata": {},
   "outputs": [
    {
     "name": "stdout",
     "output_type": "stream",
     "text": [
      "Train on 50000 samples, validate on 10000 samples\n",
      "Epoch 1/500\n",
      "50000/50000 - 7s - loss: 261.3868 - accuracy: 0.1073 - val_loss: 5.8882 - val_accuracy: 0.1061\n",
      "Epoch 2/500\n",
      "50000/50000 - 3s - loss: 2.5218 - accuracy: 0.1086 - val_loss: 2.4753 - val_accuracy: 0.1080\n",
      "Epoch 3/500\n",
      "50000/50000 - 3s - loss: 2.4549 - accuracy: 0.1123 - val_loss: 2.4234 - val_accuracy: 0.1232\n",
      "Epoch 4/500\n",
      "50000/50000 - 3s - loss: 2.4364 - accuracy: 0.1337 - val_loss: 2.2945 - val_accuracy: 0.1604\n",
      "Epoch 5/500\n",
      "50000/50000 - 3s - loss: 2.2474 - accuracy: 0.1801 - val_loss: 2.2114 - val_accuracy: 0.1874\n",
      "Epoch 6/500\n",
      "50000/50000 - 3s - loss: 2.1948 - accuracy: 0.1933 - val_loss: 2.1986 - val_accuracy: 0.2001\n",
      "Epoch 7/500\n",
      "50000/50000 - 3s - loss: 2.1776 - accuracy: 0.2008 - val_loss: 2.1645 - val_accuracy: 0.1912\n",
      "Epoch 8/500\n",
      "50000/50000 - 3s - loss: 2.2753 - accuracy: 0.1994 - val_loss: 2.1392 - val_accuracy: 0.2019\n",
      "Epoch 9/500\n",
      "50000/50000 - 3s - loss: 2.1172 - accuracy: 0.2146 - val_loss: 2.1050 - val_accuracy: 0.2217\n",
      "Epoch 10/500\n",
      "50000/50000 - 3s - loss: 2.0699 - accuracy: 0.2255 - val_loss: 2.0681 - val_accuracy: 0.2072\n",
      "Epoch 11/500\n",
      "50000/50000 - 3s - loss: 2.0434 - accuracy: 0.2305 - val_loss: 1.9666 - val_accuracy: 0.2387\n",
      "Epoch 12/500\n",
      "50000/50000 - 3s - loss: 2.0502 - accuracy: 0.2372 - val_loss: 2.0274 - val_accuracy: 0.2304\n",
      "Epoch 13/500\n",
      "50000/50000 - 3s - loss: 1.9814 - accuracy: 0.2400 - val_loss: 1.9322 - val_accuracy: 0.2355\n",
      "Epoch 14/500\n",
      "50000/50000 - 3s - loss: 1.9177 - accuracy: 0.2528 - val_loss: 1.8931 - val_accuracy: 0.2538\n",
      "Epoch 15/500\n",
      "50000/50000 - 3s - loss: 1.8303 - accuracy: 0.2809 - val_loss: 1.6890 - val_accuracy: 0.3050\n",
      "Epoch 16/500\n",
      "50000/50000 - 3s - loss: 1.6363 - accuracy: 0.3426 - val_loss: 1.5022 - val_accuracy: 0.3657\n",
      "Epoch 17/500\n",
      "50000/50000 - 3s - loss: 1.5038 - accuracy: 0.3834 - val_loss: 1.3878 - val_accuracy: 0.4221\n",
      "Epoch 18/500\n",
      "50000/50000 - 3s - loss: 1.3325 - accuracy: 0.4514 - val_loss: 1.2127 - val_accuracy: 0.4981\n",
      "Epoch 19/500\n",
      "50000/50000 - 3s - loss: 1.3286 - accuracy: 0.4620 - val_loss: 1.3274 - val_accuracy: 0.4317\n",
      "Epoch 20/500\n",
      "50000/50000 - 3s - loss: 1.2878 - accuracy: 0.4619 - val_loss: 1.1664 - val_accuracy: 0.4812\n",
      "Epoch 21/500\n",
      "50000/50000 - 3s - loss: 1.1695 - accuracy: 0.5046 - val_loss: 1.0991 - val_accuracy: 0.5276\n",
      "Epoch 22/500\n",
      "50000/50000 - 3s - loss: 1.0664 - accuracy: 0.5472 - val_loss: 0.9636 - val_accuracy: 0.5801\n",
      "Epoch 23/500\n",
      "50000/50000 - 3s - loss: 0.9431 - accuracy: 0.5993 - val_loss: 0.8190 - val_accuracy: 0.6500\n",
      "Epoch 24/500\n",
      "50000/50000 - 3s - loss: 0.8405 - accuracy: 0.6562 - val_loss: 0.6284 - val_accuracy: 0.7469\n",
      "Epoch 25/500\n",
      "50000/50000 - 3s - loss: 0.6808 - accuracy: 0.7279 - val_loss: 0.6656 - val_accuracy: 0.7544\n",
      "Epoch 26/500\n",
      "50000/50000 - 3s - loss: 0.6034 - accuracy: 0.7634 - val_loss: 0.5360 - val_accuracy: 0.7920\n",
      "Epoch 27/500\n",
      "50000/50000 - 3s - loss: 0.5292 - accuracy: 0.7951 - val_loss: 0.5173 - val_accuracy: 0.7998\n",
      "Epoch 28/500\n",
      "50000/50000 - 3s - loss: 0.4868 - accuracy: 0.8139 - val_loss: 0.4415 - val_accuracy: 0.8320\n",
      "Epoch 29/500\n",
      "50000/50000 - 3s - loss: 0.4714 - accuracy: 0.8190 - val_loss: 0.5380 - val_accuracy: 0.8064\n",
      "Epoch 30/500\n",
      "50000/50000 - 3s - loss: 0.4452 - accuracy: 0.8359 - val_loss: 0.4445 - val_accuracy: 0.8289\n",
      "Epoch 31/500\n",
      "50000/50000 - 3s - loss: 0.4205 - accuracy: 0.8414 - val_loss: 0.3312 - val_accuracy: 0.8734\n",
      "Epoch 32/500\n",
      "50000/50000 - 3s - loss: 0.4115 - accuracy: 0.8470 - val_loss: 0.4023 - val_accuracy: 0.8522\n",
      "Epoch 33/500\n",
      "50000/50000 - 3s - loss: 0.4171 - accuracy: 0.8473 - val_loss: 0.4145 - val_accuracy: 0.8473\n",
      "Epoch 34/500\n",
      "50000/50000 - 3s - loss: 0.6486 - accuracy: 0.7817 - val_loss: 0.5670 - val_accuracy: 0.7995\n",
      "Epoch 35/500\n",
      "50000/50000 - 3s - loss: 0.4668 - accuracy: 0.8312 - val_loss: 0.4635 - val_accuracy: 0.8378\n",
      "Epoch 36/500\n",
      "50000/50000 - 3s - loss: 0.4112 - accuracy: 0.8537 - val_loss: 0.3680 - val_accuracy: 0.8700\n"
     ]
    },
    {
     "data": {
      "text/plain": [
       "<tensorflow.python.keras.callbacks.History at 0x7f9ebfc8e0f0>"
      ]
     },
     "execution_count": 13,
     "metadata": {},
     "output_type": "execute_result"
    }
   ],
   "source": [
    "model.fit(x_train, y_train,\n",
    "          batch_size=128,\n",
    "          epochs=500,\n",
    "          shuffle=True,\n",
    "          verbose=2,\n",
    "          validation_data=(x_valid, y_valid),\n",
    "          callbacks=callbacks)"
   ]
  },
  {
   "cell_type": "markdown",
   "metadata": {},
   "source": [
    "# Evaluation"
   ]
  },
  {
   "cell_type": "code",
   "execution_count": 14,
   "metadata": {},
   "outputs": [],
   "source": [
    "def get_predictive_mean(model, x, num_monte_carlo=100):\n",
    "    y_rv = model(x)\n",
    "    y_samples = y_rv.sample(num_monte_carlo)\n",
    "    return tf.argmax(tf.reduce_sum(y_samples, axis=0), axis=1)"
   ]
  },
  {
   "cell_type": "code",
   "execution_count": 15,
   "metadata": {},
   "outputs": [],
   "source": [
    "y_pred_test = get_predictive_mean(model, x_test)"
   ]
  },
  {
   "cell_type": "code",
   "execution_count": 16,
   "metadata": {},
   "outputs": [
    {
     "data": {
      "text/plain": [
       "0.9102"
      ]
     },
     "execution_count": 16,
     "metadata": {},
     "output_type": "execute_result"
    }
   ],
   "source": [
    "(y_pred_test.numpy() == y_test.argmax(axis=1)).mean()"
   ]
  },
  {
   "cell_type": "markdown",
   "metadata": {},
   "source": [
    "# Out-of-distribution"
   ]
  },
  {
   "cell_type": "code",
   "execution_count": 17,
   "metadata": {},
   "outputs": [],
   "source": [
    "_, (x_fashion, y_fashion) = tf.keras.datasets.fashion_mnist.load_data()\n",
    "x_fashion = transform_image(x_fashion)"
   ]
  },
  {
   "cell_type": "code",
   "execution_count": 18,
   "metadata": {},
   "outputs": [
    {
     "data": {
      "image/png": "[encoded data removed]",
      "text/plain": [
       "<Figure size 720x288 with 10 Axes>"
      ]
     },
     "metadata": {},
     "output_type": "display_data"
    }
   ],
   "source": [
    "visualize_mnist(x_fashion[:10])"
   ]
  },
  {
   "cell_type": "code",
   "execution_count": 19,
   "metadata": {},
   "outputs": [],
   "source": [
    "def sample_probabilities(model, data, num_samples):\n",
    "    assert isinstance(model.layers[-1], tfpl.OneHotCategorical)\n",
    "    samples = [model.predict_on_batch(data).probs_parameter() for _ in range(num_samples)]\n",
    "    return tf.stack(samples)"
   ]
  },
  {
   "cell_type": "code",
   "execution_count": 20,
   "metadata": {},
   "outputs": [],
   "source": [
    "y_test_samples = sample_probabilities(model, x_test, num_samples=100)\n",
    "y_fashion_samples = sample_probabilities(model, x_fashion, num_samples=100)"
   ]
  },
  {
   "cell_type": "code",
   "execution_count": 27,
   "metadata": {},
   "outputs": [],
   "source": [
    "def plot_uncertainty(test, ood, xlabel, bins=200, log_y=False):\n",
    "    x_max = max(max(test), max(ood))\n",
    "    x_range = (0, x_max)\n",
    "    \n",
    "    fig, ax = plt.subplots(figsize=(12, 8))\n",
    "    ax.hist(test, alpha=0.5, range=x_range, bins=bins, label='MNIST')\n",
    "    ax.hist(ood, alpha=0.5, range=x_range, bins=bins, label='Fashion MNIST (OOD)')\n",
    "    ax.legend(fontsize=20)\n",
    "    ax.set_xlabel(xlabel, fontsize=15)\n",
    "    \n",
    "    if log_y:\n",
    "        ax.set_yscale('log')"
   ]
  },
  {
   "cell_type": "code",
   "execution_count": 31,
   "metadata": {},
   "outputs": [
    {
     "data": {
      "image/png": "[encoded data removed]",
      "text/plain": [
       "<Figure size 864x576 with 1 Axes>"
      ]
     },
     "metadata": {
      "needs_background": "light"
     },
     "output_type": "display_data"
    }
   ],
   "source": [
    "vr_test = extfp.uncertainty.compute_variation_ratio(y_test_samples)\n",
    "vr_fashion = extfp.uncertainty.compute_variation_ratio(y_fashion_samples)\n",
    "plot_uncertainty(vr_test.numpy(), vr_fashion.numpy(), 'variation-ratio', bins=50, log_y=True)"
   ]
  },
  {
   "cell_type": "code",
   "execution_count": 23,
   "metadata": {},
   "outputs": [
    {
     "data": {
      "image/png": "[encoded data removed]",
      "text/plain": [
       "<Figure size 864x576 with 1 Axes>"
      ]
     },
     "metadata": {
      "needs_background": "light"
     },
     "output_type": "display_data"
    }
   ],
   "source": [
    "pred_entropy_test = extfp.uncertainty.compute_predictive_entropy(y_test_samples)\n",
    "pred_entropy_fashion = extfp.uncertainty.compute_predictive_entropy(y_fashion_samples)\n",
    "plot_uncertainty(pred_entropy_test.numpy(), pred_entropy_fashion.numpy(), 'Predictive Entropy')"
   ]
  },
  {
   "cell_type": "code",
   "execution_count": 24,
   "metadata": {},
   "outputs": [
    {
     "data": {
      "image/png": "[encoded data removed]",
      "text/plain": [
       "<Figure size 864x576 with 1 Axes>"
      ]
     },
     "metadata": {
      "needs_background": "light"
     },
     "output_type": "display_data"
    }
   ],
   "source": [
    "mutual_info_test = extfp.uncertainty.compute_mutual_information(y_test_samples)\n",
    "mutual_info_fashion = extfp.uncertainty.compute_mutual_information(y_fashion_samples)\n",
    "plot_uncertainty(mutual_info_test.numpy(), mutual_info_fashion.numpy(), 'Mutual Information')"
   ]
  }
 ],
 "metadata": {
  "kernelspec": {
   "display_name": "Python 3",
   "language": "python",
   "name": "python3"
  },
  "language_info": {
   "codemirror_mode": {
    "name": "ipython",
    "version": 3
   },
   "file_extension": ".py",
   "mimetype": "text/x-python",
   "name": "python",
   "nbconvert_exporter": "python",
   "pygments_lexer": "ipython3",
   "version": "3.7.3"
  }
 },
 "nbformat": 4,
 "nbformat_minor": 2
}
