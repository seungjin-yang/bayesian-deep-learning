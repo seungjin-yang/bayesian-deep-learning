{
 "cells": [
  {
   "cell_type": "code",
   "execution_count": 1,
   "metadata": {},
   "outputs": [],
   "source": [
    "%matplotlib inline\n",
    "import random\n",
    "\n",
    "import numpy as np\n",
    "import matplotlib.pyplot as plt\n",
    "\n",
    "import tensorflow as tf\n",
    "from tensorflow import keras\n",
    "import tensorflow.keras.backend as K\n",
    "import tensorflow.keras.layers as tfkl\n",
    "import tensorflow_probability as tfp\n",
    "\n",
    "import extended_tfp as extfp\n",
    "\n",
    "tfd = tfp.distributions\n",
    "tfpl = tfp.layers"
   ]
  },
  {
   "cell_type": "markdown",
   "metadata": {},
   "source": [
    "# Version"
   ]
  },
  {
   "cell_type": "code",
   "execution_count": 2,
   "metadata": {},
   "outputs": [],
   "source": [
    "assert tf.version.VERSION == '2.0.0-rc1'\n",
    "assert tfp.__version__ == '0.8.0-rc0'"
   ]
  },
  {
   "cell_type": "markdown",
   "metadata": {},
   "source": [
    "# Reproducibility"
   ]
  },
  {
   "cell_type": "code",
   "execution_count": 3,
   "metadata": {},
   "outputs": [],
   "source": [
    "seed = 777\n",
    "random.seed(seed)\n",
    "np.random.seed(seed)\n",
    "tf.random.set_seed(seed)"
   ]
  },
  {
   "cell_type": "markdown",
   "metadata": {},
   "source": [
    "# Data"
   ]
  },
  {
   "cell_type": "code",
   "execution_count": 4,
   "metadata": {},
   "outputs": [],
   "source": [
    "def transform_image(x):\n",
    "    x = x[:, np.newaxis]\n",
    "    x = x.astype(np.float32)\n",
    "    x /= 255\n",
    "    return x"
   ]
  },
  {
   "cell_type": "code",
   "execution_count": 5,
   "metadata": {},
   "outputs": [],
   "source": [
    "def visualize_mnist(x, num_cols=5, image_size=2):\n",
    "    x = x.squeeze()\n",
    "    rank = len(x.shape)\n",
    "    if rank == 2:\n",
    "        fig, ax = plt.subplots(figsize=(6, 6))\n",
    "        ax.imshow(x)\n",
    "        ax.tick_params(axis='both', bottom=False, labelbottom=False, left=False, labelleft=False)\n",
    "    if rank == 3:\n",
    "        num_images = len(x)\n",
    "        num_rows = np.ceil(num_images / num_cols).astype(int)\n",
    "        figsize = (image_size * num_cols, image_size * num_rows)\n",
    "        fig, axarr = plt.subplots(nrows=num_rows, ncols=num_cols, figsize=figsize)\n",
    "        for img, ax in zip(x, axarr.flatten()):\n",
    "            ax.imshow(img)\n",
    "            ax.tick_params(axis='both', bottom=False, labelbottom=False, left=False, labelleft=False)\n",
    "    "
   ]
  },
  {
   "cell_type": "code",
   "execution_count": 6,
   "metadata": {},
   "outputs": [
    {
     "name": "stdout",
     "output_type": "stream",
     "text": [
      "(50000, 1, 28, 28)\n",
      "(10000, 1, 28, 28)\n",
      "(10000, 1, 28, 28)\n"
     ]
    }
   ],
   "source": [
    "(x_train, y_train), (x_test, y_test) = keras.datasets.mnist.load_data('/tmp/mnist.npz')\n",
    "\n",
    "x_train = transform_image(x_train)\n",
    "x_test = transform_image(x_test)\n",
    "\n",
    "x_valid = x_train[-10000:]\n",
    "x_train = x_train[:-10000]\n",
    "\n",
    "y_valid = y_train[-10000:]\n",
    "y_train = y_train[:-10000]\n",
    "\n",
    "print(x_train.shape)\n",
    "print(x_valid.shape)\n",
    "print(x_test.shape)\n",
    "\n",
    "input_shape = x_train.shape[1:]\n",
    "num_classes = 10\n",
    "\n",
    "y_train = keras.utils.to_categorical(y_train, num_classes)\n",
    "y_valid = keras.utils.to_categorical(y_valid, num_classes)\n",
    "y_test = keras.utils.to_categorical(y_test, num_classes)"
   ]
  },
  {
   "cell_type": "code",
   "execution_count": 7,
   "metadata": {},
   "outputs": [
    {
     "data": {
      "image/png": "[encoded data removed]",
      "text/plain": [
       "<Figure size 720x288 with 10 Axes>"
      ]
     },
     "metadata": {},
     "output_type": "display_data"
    }
   ],
   "source": [
    "visualize_mnist(x_train[:10])"
   ]
  },
  {
   "cell_type": "markdown",
   "metadata": {},
   "source": [
    "# Model Building"
   ]
  },
  {
   "cell_type": "code",
   "execution_count": 8,
   "metadata": {},
   "outputs": [
    {
     "name": "stdout",
     "output_type": "stream",
     "text": [
      "KL weight: 2e-05\n"
     ]
    }
   ],
   "source": [
    "kl_weight = 1 / len(x_train)\n",
    "print(f'KL weight: {kl_weight}')"
   ]
  },
  {
   "cell_type": "code",
   "execution_count": 9,
   "metadata": {},
   "outputs": [],
   "source": [
    "model = tf.keras.Sequential([\n",
    "    tf.keras.layers.Input(shape=input_shape),\n",
    "    extfp.layers.Conv2DVariational(\n",
    "        filters=32,\n",
    "        kernel_size=(5, 5),\n",
    "        make_posterior_fn=extfp.layers.posterior_mean_field,\n",
    "        make_prior_fn=extfp.layers.prior_trainable,\n",
    "        kl_weight=kl_weight,\n",
    "        activation='softplus'),\n",
    "    extfp.layers.Conv2DVariational(\n",
    "        filters=64,\n",
    "        kernel_size=(5, 5),\n",
    "        make_posterior_fn=extfp.layers.posterior_mean_field,\n",
    "        make_prior_fn=extfp.layers.prior_trainable,\n",
    "        kl_weight=kl_weight,\n",
    "        activation='softplus'),\n",
    "    tf.keras.layers.MaxPooling2D(3, 3),\n",
    "    tf.keras.layers.GlobalAveragePooling2D(),\n",
    "    tfp.layers.DenseVariational(\n",
    "        units=128,\n",
    "        make_posterior_fn=extfp.layers.posterior_mean_field,\n",
    "        make_prior_fn=extfp.layers.prior_trainable,\n",
    "        kl_weight=kl_weight,\n",
    "        activation='softplus'),\n",
    "    tfp.layers.DenseVariational(\n",
    "        units=10,\n",
    "        make_posterior_fn=extfp.layers.posterior_mean_field,\n",
    "        make_prior_fn=extfp.layers.prior_trainable,\n",
    "        kl_weight=kl_weight),\n",
    "    tfpl.OneHotCategorical(num_classes),\n",
    "])"
   ]
  },
  {
   "cell_type": "code",
   "execution_count": 10,
   "metadata": {},
   "outputs": [
    {
     "name": "stdout",
     "output_type": "stream",
     "text": [
      "Model: \"sequential\"\n",
      "_________________________________________________________________\n",
      "Layer (type)                 Output Shape              Param #   \n",
      "=================================================================\n",
      "conv2d_variational (Conv2DVa (None, 32, 24, 24)        2496      \n",
      "_________________________________________________________________\n",
      "conv2d_variational_1 (Conv2D (None, 64, 20, 20)        153792    \n",
      "_________________________________________________________________\n",
      "max_pooling2d (MaxPooling2D) (None, 64, 6, 6)          0         \n",
      "_________________________________________________________________\n",
      "global_average_pooling2d (Gl (None, 64)                0         \n",
      "_________________________________________________________________\n",
      "dense_variational (DenseVari (None, 128)               24960     \n",
      "_________________________________________________________________\n",
      "dense_variational_1 (DenseVa (None, 10)                3870      \n",
      "_________________________________________________________________\n",
      "one_hot_categorical (OneHotC ((None, 10), (None, 10))  0         \n",
      "=================================================================\n",
      "Total params: 185,118\n",
      "Trainable params: 185,118\n",
      "Non-trainable params: 0\n",
      "_________________________________________________________________\n"
     ]
    }
   ],
   "source": [
    "model.summary()"
   ]
  },
  {
   "cell_type": "markdown",
   "metadata": {},
   "source": [
    "# Training"
   ]
  },
  {
   "cell_type": "code",
   "execution_count": 11,
   "metadata": {},
   "outputs": [],
   "source": [
    "model.compile(loss=extfp.losses.negative_log_likelihood,\n",
    "              optimizer=tf.keras.optimizers.Adam(learning_rate=0.1),\n",
    "              metrics=['accuracy'])"
   ]
  },
  {
   "cell_type": "code",
   "execution_count": 12,
   "metadata": {},
   "outputs": [],
   "source": [
    "callbacks = [\n",
    "    tf.keras.callbacks.EarlyStopping(monitor='val_loss', patience=5, restore_best_weights=True)\n",
    "]"
   ]
  },
  {
   "cell_type": "code",
   "execution_count": 13,
   "metadata": {},
   "outputs": [
    {
     "name": "stdout",
     "output_type": "stream",
     "text": [
      "Train on 50000 samples, validate on 10000 samples\n",
      "Epoch 1/500\n",
      "50000/50000 - 7s - loss: 261.3868 - accuracy: 0.1073 - val_loss: 5.8880 - val_accuracy: 0.1061\n",
      "Epoch 2/500\n",
      "50000/50000 - 3s - loss: 2.5218 - accuracy: 0.1086 - val_loss: 2.4753 - val_accuracy: 0.1080\n",
      "Epoch 3/500\n",
      "50000/50000 - 3s - loss: 2.4549 - accuracy: 0.1123 - val_loss: 2.4234 - val_accuracy: 0.1232\n",
      "Epoch 4/500\n",
      "50000/50000 - 3s - loss: 2.4363 - accuracy: 0.1337 - val_loss: 2.2944 - val_accuracy: 0.1608\n",
      "Epoch 5/500\n",
      "50000/50000 - 3s - loss: 2.2474 - accuracy: 0.1805 - val_loss: 2.2126 - val_accuracy: 0.1871\n",
      "Epoch 6/500\n",
      "50000/50000 - 3s - loss: 2.2147 - accuracy: 0.1917 - val_loss: 2.2076 - val_accuracy: 0.1968\n",
      "Epoch 7/500\n",
      "50000/50000 - 3s - loss: 2.1660 - accuracy: 0.1999 - val_loss: 2.1375 - val_accuracy: 0.2010\n",
      "Epoch 8/500\n",
      "50000/50000 - 3s - loss: 2.1539 - accuracy: 0.2069 - val_loss: 2.1208 - val_accuracy: 0.2070\n",
      "Epoch 9/500\n",
      "50000/50000 - 3s - loss: 2.1018 - accuracy: 0.2159 - val_loss: 2.0836 - val_accuracy: 0.2158\n",
      "Epoch 10/500\n",
      "50000/50000 - 3s - loss: 2.0686 - accuracy: 0.2226 - val_loss: 2.0245 - val_accuracy: 0.2224\n",
      "Epoch 11/500\n",
      "50000/50000 - 3s - loss: 2.0371 - accuracy: 0.2269 - val_loss: 1.9726 - val_accuracy: 0.2330\n",
      "Epoch 12/500\n",
      "50000/50000 - 4s - loss: 1.9879 - accuracy: 0.2396 - val_loss: 1.9354 - val_accuracy: 0.2632\n",
      "Epoch 13/500\n",
      "50000/50000 - 3s - loss: 1.9826 - accuracy: 0.2424 - val_loss: 1.9144 - val_accuracy: 0.2403\n",
      "Epoch 14/500\n",
      "50000/50000 - 3s - loss: 1.8211 - accuracy: 0.2898 - val_loss: 1.6984 - val_accuracy: 0.3218\n",
      "Epoch 15/500\n",
      "50000/50000 - 3s - loss: 1.6643 - accuracy: 0.3368 - val_loss: 1.6026 - val_accuracy: 0.3574\n",
      "Epoch 16/500\n",
      "50000/50000 - 3s - loss: 1.4899 - accuracy: 0.3927 - val_loss: 1.3205 - val_accuracy: 0.4326\n",
      "Epoch 17/500\n",
      "50000/50000 - 3s - loss: 1.3565 - accuracy: 0.4389 - val_loss: 1.2121 - val_accuracy: 0.4625\n",
      "Epoch 18/500\n",
      "50000/50000 - 3s - loss: 1.2504 - accuracy: 0.4746 - val_loss: 1.3352 - val_accuracy: 0.4723\n",
      "Epoch 19/500\n",
      "50000/50000 - 3s - loss: 1.2186 - accuracy: 0.4877 - val_loss: 1.1316 - val_accuracy: 0.5076\n",
      "Epoch 20/500\n",
      "50000/50000 - 3s - loss: 1.0655 - accuracy: 0.5426 - val_loss: 0.8833 - val_accuracy: 0.6075\n",
      "Epoch 21/500\n",
      "50000/50000 - 3s - loss: 0.9009 - accuracy: 0.6228 - val_loss: 0.8478 - val_accuracy: 0.6488\n",
      "Epoch 22/500\n",
      "50000/50000 - 3s - loss: 0.8550 - accuracy: 0.6452 - val_loss: 0.6812 - val_accuracy: 0.7049\n",
      "Epoch 23/500\n",
      "50000/50000 - 3s - loss: 0.7096 - accuracy: 0.7096 - val_loss: 0.6082 - val_accuracy: 0.7525\n",
      "Epoch 24/500\n",
      "50000/50000 - 3s - loss: 0.6308 - accuracy: 0.7407 - val_loss: 0.5290 - val_accuracy: 0.7921\n",
      "Epoch 25/500\n",
      "50000/50000 - 3s - loss: 0.6006 - accuracy: 0.7596 - val_loss: 0.5374 - val_accuracy: 0.7859\n",
      "Epoch 26/500\n",
      "50000/50000 - 3s - loss: 0.5621 - accuracy: 0.7771 - val_loss: 0.5264 - val_accuracy: 0.7994\n",
      "Epoch 27/500\n",
      "50000/50000 - 3s - loss: 0.5423 - accuracy: 0.7863 - val_loss: 0.4966 - val_accuracy: 0.7993\n",
      "Epoch 28/500\n",
      "50000/50000 - 3s - loss: 0.5213 - accuracy: 0.7968 - val_loss: 0.5947 - val_accuracy: 0.7901\n",
      "Epoch 29/500\n",
      "50000/50000 - 3s - loss: 0.5284 - accuracy: 0.7930 - val_loss: 0.4779 - val_accuracy: 0.8121\n",
      "Epoch 30/500\n",
      "50000/50000 - 3s - loss: 0.5013 - accuracy: 0.8063 - val_loss: 0.4359 - val_accuracy: 0.8362\n",
      "Epoch 31/500\n",
      "50000/50000 - 3s - loss: 0.4872 - accuracy: 0.8076 - val_loss: 0.4395 - val_accuracy: 0.8320\n",
      "Epoch 32/500\n",
      "50000/50000 - 3s - loss: 0.4726 - accuracy: 0.8188 - val_loss: 0.4700 - val_accuracy: 0.8233\n",
      "Epoch 33/500\n",
      "50000/50000 - 3s - loss: 0.4540 - accuracy: 0.8263 - val_loss: 0.4052 - val_accuracy: 0.8391\n",
      "Epoch 34/500\n",
      "50000/50000 - 3s - loss: 0.4553 - accuracy: 0.8296 - val_loss: 0.4094 - val_accuracy: 0.8421\n",
      "Epoch 35/500\n",
      "50000/50000 - 3s - loss: 0.5211 - accuracy: 0.8104 - val_loss: 0.6594 - val_accuracy: 0.7868\n",
      "Epoch 36/500\n",
      "50000/50000 - 3s - loss: 0.5034 - accuracy: 0.8203 - val_loss: 0.4240 - val_accuracy: 0.8447\n",
      "Epoch 37/500\n",
      "50000/50000 - 3s - loss: 0.4208 - accuracy: 0.8444 - val_loss: 0.3783 - val_accuracy: 0.8615\n",
      "Epoch 38/500\n",
      "50000/50000 - 3s - loss: 0.4020 - accuracy: 0.8511 - val_loss: 0.3980 - val_accuracy: 0.8549\n",
      "Epoch 39/500\n",
      "50000/50000 - 4s - loss: 0.3949 - accuracy: 0.8535 - val_loss: 0.3903 - val_accuracy: 0.8721\n",
      "Epoch 40/500\n",
      "50000/50000 - 3s - loss: 0.3923 - accuracy: 0.8573 - val_loss: 0.3874 - val_accuracy: 0.8744\n",
      "Epoch 41/500\n",
      "50000/50000 - 3s - loss: 0.4289 - accuracy: 0.8468 - val_loss: 0.3692 - val_accuracy: 0.8743\n",
      "Epoch 42/500\n",
      "50000/50000 - 3s - loss: 0.5308 - accuracy: 0.8246 - val_loss: 0.6481 - val_accuracy: 0.7373\n",
      "Epoch 43/500\n",
      "50000/50000 - 3s - loss: 0.4458 - accuracy: 0.8388 - val_loss: 0.4012 - val_accuracy: 0.8685\n",
      "Epoch 44/500\n",
      "50000/50000 - 3s - loss: 0.3908 - accuracy: 0.8602 - val_loss: 0.4370 - val_accuracy: 0.8594\n",
      "Epoch 45/500\n",
      "50000/50000 - 3s - loss: 1.2546 - accuracy: 0.6796 - val_loss: 2.5198 - val_accuracy: 0.1003\n",
      "Epoch 46/500\n",
      "50000/50000 - 4s - loss: 2.4495 - accuracy: 0.1015 - val_loss: 2.4220 - val_accuracy: 0.0998\n"
     ]
    },
    {
     "data": {
      "text/plain": [
       "<tensorflow.python.keras.callbacks.History at 0x7ff4d6baea90>"
      ]
     },
     "execution_count": 13,
     "metadata": {},
     "output_type": "execute_result"
    }
   ],
   "source": [
    "model.fit(x_train, y_train,\n",
    "          batch_size=128,\n",
    "          epochs=500,\n",
    "          shuffle=True,\n",
    "          verbose=2,\n",
    "          validation_data=(x_valid, y_valid),\n",
    "          callbacks=callbacks)"
   ]
  },
  {
   "cell_type": "markdown",
   "metadata": {},
   "source": [
    "# Evaluation"
   ]
  },
  {
   "cell_type": "code",
   "execution_count": 14,
   "metadata": {},
   "outputs": [],
   "source": [
    "def get_predictive_mean(model, x, num_monte_carlo=100):\n",
    "    y_rv = model(x)\n",
    "    y_samples = y_rv.sample(num_monte_carlo)\n",
    "    return tf.argmax(tf.reduce_sum(y_samples, axis=0), axis=1)"
   ]
  },
  {
   "cell_type": "code",
   "execution_count": 15,
   "metadata": {},
   "outputs": [],
   "source": [
    "y_pred_test = get_predictive_mean(model, x_test)"
   ]
  },
  {
   "cell_type": "code",
   "execution_count": 16,
   "metadata": {},
   "outputs": [
    {
     "data": {
      "text/plain": [
       "0.9172"
      ]
     },
     "execution_count": 16,
     "metadata": {},
     "output_type": "execute_result"
    }
   ],
   "source": [
    "(y_pred_test.numpy() == y_test.argmax(axis=1)).mean()"
   ]
  },
  {
   "cell_type": "markdown",
   "metadata": {},
   "source": [
    "# Out-of-distribution"
   ]
  },
  {
   "cell_type": "code",
   "execution_count": 17,
   "metadata": {},
   "outputs": [],
   "source": [
    "_, (x_fashion, y_fashion) = tf.keras.datasets.fashion_mnist.load_data()\n",
    "x_fashion = transform_image(x_fashion)"
   ]
  },
  {
   "cell_type": "code",
   "execution_count": 18,
   "metadata": {},
   "outputs": [
    {
     "data": {
      "image/png": "[encoded data removed]",
      "text/plain": [
       "<Figure size 720x288 with 10 Axes>"
      ]
     },
     "metadata": {},
     "output_type": "display_data"
    }
   ],
   "source": [
    "visualize_mnist(x_fashion[:10])"
   ]
  },
  {
   "cell_type": "code",
   "execution_count": 19,
   "metadata": {},
   "outputs": [],
   "source": [
    "y_fashion_samples = np.stack([model.predict_on_batch(x_fashion).probs_parameter().numpy() for _ in range(100)])"
   ]
  },
  {
   "cell_type": "code",
   "execution_count": 20,
   "metadata": {},
   "outputs": [],
   "source": [
    "y_test_samples = np.stack([model.predict_on_batch(x_test).probs_parameter().numpy() for _ in range(100)])"
   ]
  },
  {
   "cell_type": "code",
   "execution_count": 21,
   "metadata": {},
   "outputs": [],
   "source": [
    "mnist_uncertainty = y_test_samples.std(axis=0).mean(axis=1)\n",
    "fashion_uncertainty = y_fashion_samples.std(axis=0).mean(axis=1)"
   ]
  },
  {
   "cell_type": "code",
   "execution_count": 22,
   "metadata": {},
   "outputs": [
    {
     "data": {
      "text/plain": [
       "<matplotlib.legend.Legend at 0x7ff426b70390>"
      ]
     },
     "execution_count": 22,
     "metadata": {},
     "output_type": "execute_result"
    },
    {
     "data": {
      "image/png": "[encoded data removed]",
      "text/plain": [
       "<Figure size 864x576 with 1 Axes>"
      ]
     },
     "metadata": {
      "needs_background": "light"
     },
     "output_type": "display_data"
    }
   ],
   "source": [
    "fig, ax = plt.subplots(figsize=(12, 8))\n",
    "ax.hist(mnist_uncertainty, alpha=0.5, range=(0, 0.02), bins=200, label='MNIST')\n",
    "ax.hist(fashion_uncertainty, alpha=0.5, range=(0, 0.02), bins=200, label='Fashion MNIST (OOD)')\n",
    "ax.legend(fontsize=20)\n",
    "# ax.set_yscale('log')"
   ]
  }
 ],
 "metadata": {
  "kernelspec": {
   "display_name": "Python 3",
   "language": "python",
   "name": "python3"
  },
  "language_info": {
   "codemirror_mode": {
    "name": "ipython",
    "version": 3
   },
   "file_extension": ".py",
   "mimetype": "text/x-python",
   "name": "python",
   "nbconvert_exporter": "python",
   "pygments_lexer": "ipython3",
   "version": "3.7.3"
  }
 },
 "nbformat": 4,
 "nbformat_minor": 2
}
