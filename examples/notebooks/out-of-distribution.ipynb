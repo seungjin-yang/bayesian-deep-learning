{
 "cells": [
  {
   "cell_type": "markdown",
   "metadata": {},
   "source": [
    "# Out-of-distribution\n",
    "\n",
    "* [You can run this example on Google Colab.](https://colab.research.google.com/github/seungjin-yang/extended-tensorflow-probability/blob/master/examples/notebooks/out-of-distribution.ipynb)\n",
    "* Runtime > Runtime> Change runtime type > Hardware accelerator > GPU"
   ]
  },
  {
   "cell_type": "code",
   "execution_count": 1,
   "metadata": {},
   "outputs": [
    {
     "name": "stderr",
     "output_type": "stream",
     "text": [
      "Traceback (most recent call last):\n",
      "  File \"<string>\", line 1, in <module>\n",
      "ModuleNotFoundError: No module named 'google.colab'\n"
     ]
    }
   ],
   "source": [
    "%%bash\n",
    "python -c \"import google.colab\"\n",
    "if [[ $? == \"0\" ]]\n",
    "then\n",
    "    echo \"Hello, Colab!\"\n",
    "    pip install tensorflow-gpu==2.0.0-rc1\n",
    "    pip install tensorflow-probability==0.8.0-rc0\n",
    "    pip install git+https://github.com/seungjin-yang/extended-tensorflow-probability\n",
    "fi"
   ]
  },
  {
   "cell_type": "code",
   "execution_count": 1,
   "metadata": {},
   "outputs": [],
   "source": [
    "%matplotlib inline\n",
    "\n",
    "import numpy as np\n",
    "import matplotlib.pyplot as plt\n",
    "\n",
    "import tensorflow as tf\n",
    "from tensorflow import keras\n",
    "import tensorflow.keras.backend as K\n",
    "import tensorflow.keras.layers as tfkl\n",
    "import tensorflow_probability as tfp\n",
    "\n",
    "import extended_tfp as extfp\n",
    "\n",
    "tfd = tfp.distributions\n",
    "tfpl = tfp.layers"
   ]
  },
  {
   "cell_type": "markdown",
   "metadata": {},
   "source": [
    "# Version"
   ]
  },
  {
   "cell_type": "code",
   "execution_count": 2,
   "metadata": {},
   "outputs": [],
   "source": [
    "assert tf.version.VERSION == '2.0.0-rc1'\n",
    "assert tfp.__version__ == '0.8.0-rc0'"
   ]
  },
  {
   "cell_type": "markdown",
   "metadata": {},
   "source": [
    "# Keras"
   ]
  },
  {
   "cell_type": "code",
   "execution_count": 3,
   "metadata": {},
   "outputs": [],
   "source": [
    "K.set_image_data_format('channels_first')"
   ]
  },
  {
   "cell_type": "markdown",
   "metadata": {},
   "source": [
    "# Data"
   ]
  },
  {
   "cell_type": "code",
   "execution_count": 4,
   "metadata": {},
   "outputs": [],
   "source": [
    "def transform_image(x):\n",
    "    x = x[:, np.newaxis]\n",
    "    x = x.astype(np.float32)\n",
    "    x /= 255\n",
    "    return x"
   ]
  },
  {
   "cell_type": "code",
   "execution_count": 5,
   "metadata": {},
   "outputs": [],
   "source": [
    "def visualize_mnist(x, num_cols=5, image_size=2):\n",
    "    x = x.squeeze()\n",
    "    rank = len(x.shape)\n",
    "    if rank == 2:\n",
    "        fig, ax = plt.subplots(figsize=(6, 6))\n",
    "        ax.imshow(x)\n",
    "        ax.tick_params(axis='both', bottom=False, labelbottom=False, left=False, labelleft=False)\n",
    "    if rank == 3:\n",
    "        num_images = len(x)\n",
    "        num_rows = np.ceil(num_images / num_cols).astype(int)\n",
    "        figsize = (image_size * num_cols, image_size * num_rows)\n",
    "        fig, axarr = plt.subplots(nrows=num_rows, ncols=num_cols, figsize=figsize)\n",
    "        for img, ax in zip(x, axarr.flatten()):\n",
    "            ax.imshow(img)\n",
    "            ax.tick_params(axis='both', bottom=False, labelbottom=False, left=False, labelleft=False)    "
   ]
  },
  {
   "cell_type": "code",
   "execution_count": 6,
   "metadata": {},
   "outputs": [
    {
     "name": "stdout",
     "output_type": "stream",
     "text": [
      "(50000, 1, 28, 28)\n",
      "(10000, 1, 28, 28)\n",
      "(10000, 1, 28, 28)\n"
     ]
    }
   ],
   "source": [
    "(x_train, y_train), (x_test, y_test) = keras.datasets.mnist.load_data('/tmp/mnist.npz')\n",
    "\n",
    "x_train = transform_image(x_train)\n",
    "x_test = transform_image(x_test)\n",
    "\n",
    "x_valid = x_train[-10000:]\n",
    "x_train = x_train[:-10000]\n",
    "\n",
    "y_valid = y_train[-10000:]\n",
    "y_train = y_train[:-10000]\n",
    "\n",
    "print(x_train.shape)\n",
    "print(x_valid.shape)\n",
    "print(x_test.shape)\n",
    "\n",
    "input_shape = x_train.shape[1:]\n",
    "num_classes = 10\n",
    "\n",
    "y_train = keras.utils.to_categorical(y_train, num_classes)\n",
    "y_valid = keras.utils.to_categorical(y_valid, num_classes)\n",
    "y_test = keras.utils.to_categorical(y_test, num_classes)"
   ]
  },
  {
   "cell_type": "code",
   "execution_count": 7,
   "metadata": {},
   "outputs": [
    {
     "data": {
      "image/png": "[encoded data removed]",
      "text/plain": [
       "<Figure size 720x288 with 10 Axes>"
      ]
     },
     "metadata": {},
     "output_type": "display_data"
    }
   ],
   "source": [
    "visualize_mnist(x_train[:10])"
   ]
  },
  {
   "cell_type": "markdown",
   "metadata": {},
   "source": [
    "# Model Building"
   ]
  },
  {
   "cell_type": "code",
   "execution_count": 8,
   "metadata": {},
   "outputs": [
    {
     "name": "stdout",
     "output_type": "stream",
     "text": [
      "KL weight: 2e-05\n"
     ]
    }
   ],
   "source": [
    "kl_weight = 1 / len(x_train)\n",
    "print(f'KL weight: {kl_weight}')"
   ]
  },
  {
   "cell_type": "code",
   "execution_count": 9,
   "metadata": {},
   "outputs": [],
   "source": [
    "model = tf.keras.Sequential([\n",
    "    tf.keras.layers.Input(shape=input_shape),\n",
    "    extfp.layers.Conv2DVariational(\n",
    "        filters=32,\n",
    "        kernel_size=(5, 5),\n",
    "        make_posterior_fn=extfp.layers.posterior_mean_field,\n",
    "        make_prior_fn=extfp.layers.prior_trainable,\n",
    "        kl_weight=kl_weight,\n",
    "        activation='softplus'),\n",
    "    extfp.layers.Conv2DVariational(\n",
    "        filters=64,\n",
    "        kernel_size=(5, 5),\n",
    "        make_posterior_fn=extfp.layers.posterior_mean_field,\n",
    "        make_prior_fn=extfp.layers.prior_trainable,\n",
    "        kl_weight=kl_weight,\n",
    "        activation='softplus'),\n",
    "    tf.keras.layers.MaxPooling2D(3, 3),\n",
    "    tf.keras.layers.GlobalAveragePooling2D(),\n",
    "    tfp.layers.DenseVariational(\n",
    "        units=128,\n",
    "        make_posterior_fn=extfp.layers.posterior_mean_field,\n",
    "        make_prior_fn=extfp.layers.prior_trainable,\n",
    "        kl_weight=kl_weight,\n",
    "        activation='softplus'),\n",
    "    tfp.layers.DenseVariational(\n",
    "        units=10,\n",
    "        make_posterior_fn=extfp.layers.posterior_mean_field,\n",
    "        make_prior_fn=extfp.layers.prior_trainable,\n",
    "        kl_weight=kl_weight),\n",
    "    tfpl.OneHotCategorical(num_classes),\n",
    "])"
   ]
  },
  {
   "cell_type": "code",
   "execution_count": 10,
   "metadata": {},
   "outputs": [
    {
     "name": "stdout",
     "output_type": "stream",
     "text": [
      "Model: \"sequential\"\n",
      "_________________________________________________________________\n",
      "Layer (type)                 Output Shape              Param #   \n",
      "=================================================================\n",
      "conv2d_variational (Conv2DVa (None, 32, 24, 24)        2496      \n",
      "_________________________________________________________________\n",
      "conv2d_variational_1 (Conv2D (None, 64, 20, 20)        153792    \n",
      "_________________________________________________________________\n",
      "max_pooling2d (MaxPooling2D) (None, 64, 6, 6)          0         \n",
      "_________________________________________________________________\n",
      "global_average_pooling2d (Gl (None, 64)                0         \n",
      "_________________________________________________________________\n",
      "dense_variational (DenseVari (None, 128)               24960     \n",
      "_________________________________________________________________\n",
      "dense_variational_1 (DenseVa (None, 10)                3870      \n",
      "_________________________________________________________________\n",
      "one_hot_categorical (OneHotC ((None, 10), (None, 10))  0         \n",
      "=================================================================\n",
      "Total params: 185,118\n",
      "Trainable params: 185,118\n",
      "Non-trainable params: 0\n",
      "_________________________________________________________________\n"
     ]
    }
   ],
   "source": [
    "model.summary()"
   ]
  },
  {
   "cell_type": "markdown",
   "metadata": {},
   "source": [
    "# Training\n",
    "`TODO` how to save model with variational layers"
   ]
  },
  {
   "cell_type": "code",
   "execution_count": 11,
   "metadata": {},
   "outputs": [],
   "source": [
    "model.compile(loss=extfp.losses.negative_log_likelihood,\n",
    "              optimizer=tf.keras.optimizers.Adam(learning_rate=0.1),\n",
    "              metrics=['accuracy'])"
   ]
  },
  {
   "cell_type": "code",
   "execution_count": 12,
   "metadata": {},
   "outputs": [],
   "source": [
    "callbacks = [\n",
    "    tf.keras.callbacks.EarlyStopping(monitor='val_loss', patience=5, restore_best_weights=True)\n",
    "]"
   ]
  },
  {
   "cell_type": "code",
   "execution_count": 13,
   "metadata": {},
   "outputs": [
    {
     "name": "stdout",
     "output_type": "stream",
     "text": [
      "Train on 50000 samples, validate on 10000 samples\n",
      "Epoch 1/500\n",
      "50000/50000 - 7s - loss: 296.4043 - accuracy: 0.1060 - val_loss: 2.5283 - val_accuracy: 0.1105\n",
      "Epoch 2/500\n",
      "50000/50000 - 3s - loss: 2.5498 - accuracy: 0.1230 - val_loss: 2.4147 - val_accuracy: 0.1659\n",
      "Epoch 3/500\n",
      "50000/50000 - 4s - loss: 2.3120 - accuracy: 0.1617 - val_loss: 2.2856 - val_accuracy: 0.1986\n",
      "Epoch 4/500\n",
      "50000/50000 - 4s - loss: 2.2326 - accuracy: 0.1888 - val_loss: 2.2023 - val_accuracy: 0.1897\n",
      "Epoch 5/500\n",
      "50000/50000 - 3s - loss: 2.1851 - accuracy: 0.2004 - val_loss: 2.1220 - val_accuracy: 0.2069\n",
      "Epoch 6/500\n",
      "50000/50000 - 3s - loss: 2.1380 - accuracy: 0.2049 - val_loss: 2.1460 - val_accuracy: 0.2057\n",
      "Epoch 7/500\n",
      "50000/50000 - 3s - loss: 2.0546 - accuracy: 0.2264 - val_loss: 2.0054 - val_accuracy: 0.2330\n",
      "Epoch 8/500\n",
      "50000/50000 - 3s - loss: 2.0202 - accuracy: 0.2364 - val_loss: 2.0000 - val_accuracy: 0.2378\n",
      "Epoch 9/500\n",
      "50000/50000 - 4s - loss: 1.9692 - accuracy: 0.2542 - val_loss: 2.0800 - val_accuracy: 0.2527\n",
      "Epoch 10/500\n",
      "50000/50000 - 4s - loss: 1.8475 - accuracy: 0.2938 - val_loss: 1.7241 - val_accuracy: 0.3477\n",
      "Epoch 11/500\n",
      "50000/50000 - 3s - loss: 1.7112 - accuracy: 0.3367 - val_loss: 1.6208 - val_accuracy: 0.3560\n",
      "Epoch 12/500\n",
      "50000/50000 - 3s - loss: 1.6429 - accuracy: 0.3544 - val_loss: 1.5768 - val_accuracy: 0.3764\n",
      "Epoch 13/500\n",
      "50000/50000 - 3s - loss: 1.5965 - accuracy: 0.3673 - val_loss: 1.6896 - val_accuracy: 0.3308\n",
      "Epoch 14/500\n",
      "50000/50000 - 3s - loss: 1.5919 - accuracy: 0.3646 - val_loss: 1.5965 - val_accuracy: 0.3722\n",
      "Epoch 15/500\n",
      "50000/50000 - 4s - loss: 1.5510 - accuracy: 0.3754 - val_loss: 1.4872 - val_accuracy: 0.3745\n",
      "Epoch 16/500\n",
      "50000/50000 - 3s - loss: 1.4956 - accuracy: 0.3862 - val_loss: 1.7202 - val_accuracy: 0.3718\n",
      "Epoch 17/500\n",
      "50000/50000 - 4s - loss: 1.4647 - accuracy: 0.4007 - val_loss: 1.3450 - val_accuracy: 0.4334\n",
      "Epoch 18/500\n",
      "50000/50000 - 3s - loss: 1.3316 - accuracy: 0.4462 - val_loss: 1.2875 - val_accuracy: 0.4628\n",
      "Epoch 19/500\n",
      "50000/50000 - 3s - loss: 1.2365 - accuracy: 0.4814 - val_loss: 1.0955 - val_accuracy: 0.4961\n",
      "Epoch 20/500\n",
      "50000/50000 - 3s - loss: 1.0229 - accuracy: 0.5620 - val_loss: 0.9077 - val_accuracy: 0.5987\n",
      "Epoch 21/500\n",
      "50000/50000 - 3s - loss: 0.9018 - accuracy: 0.6240 - val_loss: 0.7873 - val_accuracy: 0.6751\n",
      "Epoch 22/500\n",
      "50000/50000 - 3s - loss: 0.7776 - accuracy: 0.6834 - val_loss: 0.7173 - val_accuracy: 0.7153\n",
      "Epoch 23/500\n",
      "50000/50000 - 3s - loss: 0.6956 - accuracy: 0.7229 - val_loss: 0.6716 - val_accuracy: 0.7324\n",
      "Epoch 24/500\n",
      "50000/50000 - 4s - loss: 0.6154 - accuracy: 0.7581 - val_loss: 0.5734 - val_accuracy: 0.7758\n",
      "Epoch 25/500\n",
      "50000/50000 - 4s - loss: 0.5797 - accuracy: 0.7735 - val_loss: 0.5684 - val_accuracy: 0.7896\n",
      "Epoch 26/500\n",
      "50000/50000 - 4s - loss: 0.5852 - accuracy: 0.7771 - val_loss: 0.5203 - val_accuracy: 0.7990\n",
      "Epoch 27/500\n",
      "50000/50000 - 3s - loss: 0.4994 - accuracy: 0.8076 - val_loss: 0.5058 - val_accuracy: 0.8050\n",
      "Epoch 28/500\n",
      "50000/50000 - 4s - loss: 0.4778 - accuracy: 0.8173 - val_loss: 0.4299 - val_accuracy: 0.8262\n",
      "Epoch 29/500\n",
      "50000/50000 - 3s - loss: 0.4721 - accuracy: 0.8224 - val_loss: 0.5064 - val_accuracy: 0.8117\n",
      "Epoch 30/500\n",
      "50000/50000 - 4s - loss: 0.4337 - accuracy: 0.8353 - val_loss: 0.4458 - val_accuracy: 0.8398\n",
      "Epoch 31/500\n",
      "50000/50000 - 3s - loss: 0.4548 - accuracy: 0.8292 - val_loss: 0.5562 - val_accuracy: 0.7883\n",
      "Epoch 32/500\n",
      "50000/50000 - 4s - loss: 0.4319 - accuracy: 0.8380 - val_loss: 0.3816 - val_accuracy: 0.8639\n",
      "Epoch 33/500\n",
      "50000/50000 - 3s - loss: 0.4196 - accuracy: 0.8477 - val_loss: 0.3713 - val_accuracy: 0.8603\n",
      "Epoch 34/500\n",
      "50000/50000 - 4s - loss: 0.4028 - accuracy: 0.8516 - val_loss: 0.4440 - val_accuracy: 0.8396\n",
      "Epoch 35/500\n",
      "50000/50000 - 3s - loss: 0.3791 - accuracy: 0.8647 - val_loss: 0.3755 - val_accuracy: 0.8666\n",
      "Epoch 36/500\n",
      "50000/50000 - 3s - loss: 0.3808 - accuracy: 0.8658 - val_loss: 0.4204 - val_accuracy: 0.8439\n",
      "Epoch 37/500\n",
      "50000/50000 - 3s - loss: 0.4875 - accuracy: 0.8424 - val_loss: 0.7456 - val_accuracy: 0.7974\n",
      "Epoch 38/500\n",
      "50000/50000 - 3s - loss: 0.3899 - accuracy: 0.8682 - val_loss: 0.4123 - val_accuracy: 0.8596\n"
     ]
    },
    {
     "data": {
      "text/plain": [
       "<tensorflow.python.keras.callbacks.History at 0x7fa567284278>"
      ]
     },
     "execution_count": 13,
     "metadata": {},
     "output_type": "execute_result"
    }
   ],
   "source": [
    "model.fit(x_train, y_train,\n",
    "          batch_size=128,\n",
    "          epochs=500,\n",
    "          shuffle=True,\n",
    "          verbose=2,\n",
    "          validation_data=(x_valid, y_valid),\n",
    "          callbacks=callbacks)"
   ]
  },
  {
   "cell_type": "markdown",
   "metadata": {},
   "source": [
    "# Evaluation"
   ]
  },
  {
   "cell_type": "code",
   "execution_count": 14,
   "metadata": {},
   "outputs": [],
   "source": [
    "def predict_stochastically(model, x, num_monte_carlo=100):\n",
    "    y_rv = model(x)\n",
    "    y_samples = y_rv.sample(num_monte_carlo)\n",
    "    return tf.argmax(tf.reduce_sum(y_samples, axis=0), axis=1)"
   ]
  },
  {
   "cell_type": "code",
   "execution_count": 15,
   "metadata": {},
   "outputs": [],
   "source": [
    "y_pred_test = predict_stochastically(model, x_test)"
   ]
  },
  {
   "cell_type": "code",
   "execution_count": 16,
   "metadata": {},
   "outputs": [
    {
     "data": {
      "text/plain": [
       "0.911"
      ]
     },
     "execution_count": 16,
     "metadata": {},
     "output_type": "execute_result"
    }
   ],
   "source": [
    "(y_pred_test.numpy() == y_test.argmax(axis=1)).mean()"
   ]
  },
  {
   "cell_type": "markdown",
   "metadata": {},
   "source": [
    "# Out-of-distribution"
   ]
  },
  {
   "cell_type": "code",
   "execution_count": 17,
   "metadata": {},
   "outputs": [],
   "source": [
    "_, (x_fashion, y_fashion) = tf.keras.datasets.fashion_mnist.load_data()\n",
    "x_fashion = transform_image(x_fashion)"
   ]
  },
  {
   "cell_type": "code",
   "execution_count": 18,
   "metadata": {},
   "outputs": [
    {
     "data": {
      "image/png": "[encoded data removed]",
      "text/plain": [
       "<Figure size 720x288 with 10 Axes>"
      ]
     },
     "metadata": {},
     "output_type": "display_data"
    }
   ],
   "source": [
    "visualize_mnist(x_fashion[:10])"
   ]
  },
  {
   "cell_type": "code",
   "execution_count": 19,
   "metadata": {},
   "outputs": [],
   "source": [
    "def sample_probabilities(model, data, num_samples):\n",
    "    assert isinstance(model.layers[-1], tfpl.OneHotCategorical)\n",
    "    samples = [model.predict_on_batch(data).probs_parameter() for _ in range(num_samples)]\n",
    "    return tf.stack(samples)"
   ]
  },
  {
   "cell_type": "code",
   "execution_count": 20,
   "metadata": {},
   "outputs": [],
   "source": [
    "y_test_samples = sample_probabilities(model, x_test, num_samples=100)\n",
    "y_fashion_samples = sample_probabilities(model, x_fashion, num_samples=100)"
   ]
  },
  {
   "cell_type": "code",
   "execution_count": 21,
   "metadata": {},
   "outputs": [],
   "source": [
    "def plot_uncertainty(test, ood, xlabel, bins=200, log_y=False):\n",
    "    x_max = max(max(test), max(ood))\n",
    "    x_range = (0, x_max)\n",
    "    \n",
    "    fig, ax = plt.subplots(figsize=(12, 8))\n",
    "    ax.hist(test, alpha=0.5, range=x_range, bins=bins, label='MNIST')\n",
    "    ax.hist(ood, alpha=0.5, range=x_range, bins=bins, label='Fashion MNIST (OOD)')\n",
    "    ax.legend(fontsize=20)\n",
    "    ax.set_xlabel(xlabel, fontsize=15)\n",
    "    \n",
    "    if log_y:\n",
    "        ax.set_yscale('log')"
   ]
  },
  {
   "cell_type": "code",
   "execution_count": 22,
   "metadata": {},
   "outputs": [
    {
     "data": {
      "image/png": "[encoded data removed]",
      "text/plain": [
       "<Figure size 864x576 with 1 Axes>"
      ]
     },
     "metadata": {
      "needs_background": "light"
     },
     "output_type": "display_data"
    }
   ],
   "source": [
    "vr_test = extfp.uncertainty.compute_variation_ratio(y_test_samples)\n",
    "vr_fashion = extfp.uncertainty.compute_variation_ratio(y_fashion_samples)\n",
    "plot_uncertainty(vr_test.numpy(), vr_fashion.numpy(), 'variation-ratio', bins=50, log_y=True)"
   ]
  },
  {
   "cell_type": "code",
   "execution_count": 23,
   "metadata": {},
   "outputs": [
    {
     "data": {
      "image/png": "[encoded data removed]",
      "text/plain": [
       "<Figure size 864x576 with 1 Axes>"
      ]
     },
     "metadata": {
      "needs_background": "light"
     },
     "output_type": "display_data"
    }
   ],
   "source": [
    "pred_entropy_test = extfp.uncertainty.compute_predictive_entropy(y_test_samples)\n",
    "pred_entropy_fashion = extfp.uncertainty.compute_predictive_entropy(y_fashion_samples)\n",
    "plot_uncertainty(pred_entropy_test.numpy(), pred_entropy_fashion.numpy(), 'Predictive Entropy')"
   ]
  },
  {
   "cell_type": "code",
   "execution_count": 24,
   "metadata": {},
   "outputs": [
    {
     "data": {
      "image/png": "[encoded data removed]",
      "text/plain": [
       "<Figure size 864x576 with 1 Axes>"
      ]
     },
     "metadata": {
      "needs_background": "light"
     },
     "output_type": "display_data"
    }
   ],
   "source": [
    "mutual_info_test = extfp.uncertainty.compute_mutual_information(y_test_samples)\n",
    "mutual_info_fashion = extfp.uncertainty.compute_mutual_information(y_fashion_samples)\n",
    "plot_uncertainty(mutual_info_test.numpy(), mutual_info_fashion.numpy(), 'Mutual Information')"
   ]
  }
 ],
 "metadata": {
  "kernelspec": {
   "display_name": "Python 3",
   "language": "python",
   "name": "python3"
  },
  "language_info": {
   "codemirror_mode": {
    "name": "ipython",
    "version": 3
   },
   "file_extension": ".py",
   "mimetype": "text/x-python",
   "name": "python",
   "nbconvert_exporter": "python",
   "pygments_lexer": "ipython3",
   "version": "3.7.3"
  }
 },
 "nbformat": 4,
 "nbformat_minor": 2
}
